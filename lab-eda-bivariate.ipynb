{
 "cells": [
  {
   "cell_type": "code",
   "execution_count": 13,
   "id": "d9f42990",
   "metadata": {},
   "outputs": [],
   "source": [
    "import pandas as pd\n",
    "import matplotlib.pyplot as plt\n",
    "import seaborn as sns\n",
    "import numpy as np\n",
    "from scipy.stats import chi2_contingency\n",
    "from scipy.stats.contingency import association"
   ]
  },
  {
   "cell_type": "code",
   "execution_count": 14,
   "id": "21b40b09",
   "metadata": {},
   "outputs": [
    {
     "data": {
      "application/vnd.microsoft.datawrangler.viewer.v0+json": {
       "columns": [
        {
         "name": "index",
         "rawType": "int64",
         "type": "integer"
        },
        {
         "name": "uid",
         "rawType": "int64",
         "type": "integer"
        },
        {
         "name": "asin",
         "rawType": "object",
         "type": "string"
        },
        {
         "name": "title",
         "rawType": "object",
         "type": "string"
        },
        {
         "name": "stars",
         "rawType": "float64",
         "type": "float"
        },
        {
         "name": "reviews",
         "rawType": "int64",
         "type": "integer"
        },
        {
         "name": "price",
         "rawType": "float64",
         "type": "float"
        },
        {
         "name": "isBestSeller",
         "rawType": "bool",
         "type": "boolean"
        },
        {
         "name": "boughtInLastMonth",
         "rawType": "int64",
         "type": "integer"
        },
        {
         "name": "category",
         "rawType": "object",
         "type": "string"
        }
       ],
       "ref": "e1356eab-0b2b-4a7c-a73c-cd9a8f21bfe0",
       "rows": [
        [
         "0",
         "1",
         "B09B96TG33",
         "Echo Dot (5th generation, 2022 release) | Big vibrant sound Wi-Fi and Bluetooth smart speaker with Alexa | Charcoal",
         "4.7",
         "15308",
         "21.99",
         "False",
         "0",
         "Hi-Fi Speakers"
        ],
        [
         "1",
         "2",
         "B01HTH3C8S",
         "Anker Soundcore mini, Super-Portable Bluetooth Speaker with 15-Hour Playtime, 66-Foot Bluetooth Range, Wireless Speaker with Enhanced Bass, Noise-Cancelling Microphone, for Outdoor, Travel, Home",
         "4.7",
         "98099",
         "23.99",
         "True",
         "0",
         "Hi-Fi Speakers"
        ],
        [
         "2",
         "3",
         "B09B8YWXDF",
         "Echo Dot (5th generation, 2022 release) | Big vibrant sound Wi-Fi and Bluetooth smart speaker with Alexa | Deep Sea Blue",
         "4.7",
         "15308",
         "21.99",
         "False",
         "0",
         "Hi-Fi Speakers"
        ],
        [
         "3",
         "4",
         "B09B8T5VGV",
         "Echo Dot with clock (5th generation, 2022 release) | Bigger vibrant sound Wi-Fi and Bluetooth smart speaker and Alexa | Cloud Blue",
         "4.7",
         "7205",
         "31.99",
         "False",
         "0",
         "Hi-Fi Speakers"
        ],
        [
         "4",
         "5",
         "B09WX6QD65",
         "Introducing Echo Pop | Full sound compact Wi-Fi and Bluetooth smart speaker with Alexa | Charcoal",
         "4.6",
         "1881",
         "17.99",
         "False",
         "0",
         "Hi-Fi Speakers"
        ],
        [
         "5",
         "6",
         "B09B97WSLF",
         "Echo Dot with clock (5th generation, 2022 release) | Bigger vibrant sound Wi-Fi and Bluetooth smart speaker and Alexa | Glacier White",
         "4.7",
         "7205",
         "31.99",
         "False",
         "0",
         "Hi-Fi Speakers"
        ],
        [
         "6",
         "7",
         "B09B9615X2",
         "Echo Dot (5th generation, 2022 release) | Big vibrant sound Wi-Fi and Bluetooth smart speaker with Alexa | Glacier White",
         "4.7",
         "15308",
         "21.99",
         "False",
         "0",
         "Hi-Fi Speakers"
        ],
        [
         "7",
         "8",
         "B01MTB55WH",
         "Anker Soundcore 2 Portable Bluetooth Speaker with 12W Stereo Sound, BassUp, IPX7 Waterproof, 24-Hour Playtime, Wireless Stereo Pairing, Speaker for Home, Outdoors, Travel",
         "4.7",
         "103673",
         "39.99",
         "False",
         "0",
         "Hi-Fi Speakers"
        ],
        [
         "8",
         "9",
         "B016MO90GW",
         "Bluetooth Speaker, Anker Soundcore Speaker Upgraded Version with 24H Playtime, IPX5 Waterproof, Stereo Sound, 66ft Bluetooth Range, Built-In Mic, Portable Wireless Speaker for iPhone Samsung",
         "4.7",
         "29909",
         "29.99",
         "False",
         "0",
         "Hi-Fi Speakers"
        ],
        [
         "9",
         "10",
         "B09ZQF5GZW",
         "RIENOK Bluetooth Speaker Portable Wireless Bluetooth Speaker with 30W Enhanced Bass IPX7 Waterproof Bluetooth 5.3 Outdoor Speaker for Travel Sport",
         "4.5",
         "16014",
         "29.99",
         "False",
         "0",
         "Hi-Fi Speakers"
        ],
        [
         "10",
         "11",
         "B08VDNCZT9",
         "JBL Charge 5 - Portable Bluetooth Speaker with deep bass, IP67 waterproof and dustproof, 20 hours of playtime, built-in powerbank, in black",
         "4.8",
         "11920",
         "139.0",
         "False",
         "0",
         "Hi-Fi Speakers"
        ],
        [
         "11",
         "12",
         "B09ZX9NP2W",
         "Introducing Echo Pop | Full sound compact Wi-Fi and Bluetooth smart speaker with Alexa | Lavender Bloom",
         "4.6",
         "1881",
         "17.99",
         "False",
         "0",
         "Hi-Fi Speakers"
        ],
        [
         "12",
         "13",
         "B09ZXDMNCY",
         "Introducing Echo Pop | Full sound compact Wi-Fi and Bluetooth smart speaker with Alexa | Glacier White",
         "4.6",
         "1881",
         "17.99",
         "False",
         "0",
         "Hi-Fi Speakers"
        ],
        [
         "13",
         "14",
         "B09B2R18PG",
         "All-new Echo Show 5 (3rd Gen, 2023 release) | Smart display and alarm clock with clearer sound | Charcoal",
         "4.5",
         "726",
         "49.99",
         "False",
         "0",
         "Hi-Fi Speakers"
        ],
        [
         "14",
         "15",
         "B084TNK1NL",
         "Echo Show 8 | 2nd generation (2021 release), HD smart display with Alexa and 13 MP camera | Charcoal",
         "4.7",
         "18333",
         "64.99",
         "False",
         "0",
         "Hi-Fi Speakers"
        ],
        [
         "15",
         "16",
         "B09B97BPSW",
         "Echo Dot Kids (5th generation, 2022 release) | Wi-Fi and Bluetooth smart speaker with Alexa | Designed for kids, with parental controls | Owl",
         "4.6",
         "1017",
         "26.99",
         "True",
         "0",
         "Hi-Fi Speakers"
        ],
        [
         "16",
         "17",
         "B08YF1T4SW",
         "Sony SRS-XB13 - Compact and Portable Waterproof Wireless Bluetooth speaker with EXTRA BASS - Black",
         "4.6",
         "6367",
         "39.0",
         "False",
         "0",
         "Hi-Fi Speakers"
        ],
        [
         "17",
         "18",
         "B09B8XRZYB",
         "Echo Dot Kids (5th generation, 2022 release) | Wi-Fi and Bluetooth smart speaker with Alexa | Designed for kids, with parental controls | Dragon",
         "4.6",
         "1017",
         "26.99",
         "True",
         "0",
         "Hi-Fi Speakers"
        ],
        [
         "18",
         "19",
         "B09B2SS2G1",
         "All-new Echo Show 5 (3rd Gen, 2023 release) | Smart display and alarm clock with clearer sound | White",
         "4.5",
         "726",
         "49.99",
         "False",
         "0",
         "Hi-Fi Speakers"
        ],
        [
         "19",
         "20",
         "B07NQCKJSH",
         "Echo Studio | Our best-sounding Wi-Fi and Bluetooth smart speaker ever | Dolby Atmos, spatial audio, smart home hub and Alexa | Charcoal",
         "4.5",
         "14222",
         "164.99",
         "False",
         "0",
         "Hi-Fi Speakers"
        ],
        [
         "20",
         "21",
         "B08BCHKY52",
         "soundcore 3 Bluetooth Speaker by Anker with Stereo Sound, Pure Titanium Diaphragm Drivers, 24H Playtime, IPX7 Waterproof, Bluetooth 5.0, PartyCast Technology, BassUp, App, Custom EQ",
         "4.6",
         "9273",
         "55.99",
         "False",
         "0",
         "Hi-Fi Speakers"
        ],
        [
         "21",
         "22",
         "B08FB2H6Y4",
         "JBL GO 3 - Wireless Bluetooth portable speaker with integrated loop for travel with USB C charging cable, in black",
         "4.8",
         "59668",
         "34.8",
         "False",
         "0",
         "Hi-Fi Speakers"
        ],
        [
         "22",
         "23",
         "B084TNGZHJ",
         "Echo Show 8 | 2nd generation (2021 release), HD smart display with Alexa and 13 MP camera | Glacier White",
         "4.7",
         "18333",
         "64.99",
         "False",
         "0",
         "Hi-Fi Speakers"
        ],
        [
         "23",
         "24",
         "B09HGRXXTM",
         "JBL Flip 6 Portable Bluetooth Speaker with 2-way speaker system and powerful JBL Original Pro Sound, up to 12 hours of playtime, in black",
         "4.7",
         "8700",
         "98.95",
         "False",
         "0",
         "Hi-Fi Speakers"
        ],
        [
         "24",
         "25",
         "B09B2RV31Z",
         "All-new Echo Show 5 (3rd generation) I Compact smart touchscreen with Alexa for smart home control and more I Cloud blue",
         "4.5",
         "726",
         "49.99",
         "False",
         "0",
         "Hi-Fi Speakers"
        ],
        [
         "25",
         "26",
         "B0BLS36M5R",
         "All-new Echo Show 8 | 3rd generation (2023 release), HD smart touchscreen with spatial audio, smart home hub and Alexa, Charcoal",
         "0.0",
         "0",
         "149.99",
         "False",
         "0",
         "Hi-Fi Speakers"
        ],
        [
         "26",
         "27",
         "B07PDJ9JFF",
         "Echo Flex – Voice control smart home devices with Alexa",
         "4.5",
         "21614",
         "9.99",
         "False",
         "0",
         "Hi-Fi Speakers"
        ],
        [
         "27",
         "28",
         "B07QK18BNY",
         "JBL FLIP 5 Portable Waterproof Bluetooth Speaker blue",
         "4.7",
         "6387",
         "79.99",
         "False",
         "0",
         "Hi-Fi Speakers"
        ],
        [
         "28",
         "29",
         "B096G3R7C3",
         "JBL PartyBox110 Portable Indoor and Outdoor Party Speaker with Built-In Lights, IPX4 Splashproof Design, Deep Bass and 12 Hours of Playtime, in Black",
         "4.8",
         "153",
         "289.0",
         "False",
         "0",
         "Hi-Fi Speakers"
        ],
        [
         "29",
         "30",
         "B01N4V4X5M",
         "Upgraded, Anker Soundcore Boost Bluetooth Speaker with Well-Balanced Sound, BassUp, 12H Playtime, USB-C, IPX7 Waterproof, with Customizable EQ via App, Wireless Stereo Pairing",
         "4.7",
         "29387",
         "39.98",
         "False",
         "600",
         "Hi-Fi Speakers"
        ],
        [
         "30",
         "31",
         "B08QF9F8BC",
         "Ortizan Bluetooth Speaker, Portable Wireless Bluetooth Speakers With Led Light, Louder Volume & Enhanced Bass, IPX7 Waterproof, 30H Playtime, Durable Loud Outdoor Speaker for Travel, Sport",
         "4.4",
         "17612",
         "35.99",
         "False",
         "0",
         "Hi-Fi Speakers"
        ],
        [
         "31",
         "32",
         "B08MQRDDYB",
         "Echo Show 15 | Full HD 15.6\" smart display with Alexa and Fire TV built in, remote not included",
         "4.4",
         "2616",
         "199.99",
         "False",
         "0",
         "Hi-Fi Speakers"
        ],
        [
         "32",
         "33",
         "B07WVP26FR",
         "Kolaura Portable Wireless Speaker, Bluetooth 5.0 Speaker with 3D Stereo HiFi Bass, 1500mAh Battery, 12 Hour Playtime (Blue)",
         "4.4",
         "2493",
         "15.99",
         "False",
         "1000",
         "Hi-Fi Speakers"
        ],
        [
         "33",
         "34",
         "B079DD19ZT",
         "Sony HT-SF150 2ch Single Soundbar with Bluetooth and S-Force Front Surround - Black",
         "4.3",
         "2391",
         "128.0",
         "False",
         "0",
         "Hi-Fi Speakers"
        ],
        [
         "34",
         "35",
         "B0BXQ1Q6NK",
         "Samsung Q990C Soundbar Speaker (2023) - 22 Speaker Home Sound System With Wireless Dolby Atmos Rear Speakers And Wireless Subwoofer, Alexa Built In, Smart Surround Sound, Bluetooth, WiFi & Airplay",
         "4.8",
         "13",
         "959.99",
         "False",
         "0",
         "Hi-Fi Speakers"
        ],
        [
         "35",
         "36",
         "B099TJGJ91",
         "Bose SoundLink Flex Bluetooth Portable Speaker, Wireless Waterproof Speaker for Outdoor Travel—Black",
         "4.8",
         "11692",
         "149.0",
         "False",
         "0",
         "Hi-Fi Speakers"
        ],
        [
         "36",
         "37",
         "B08L84ST93",
         "Bose Solo Soundbar Series II - TV Speaker with Bluetooth connectivity",
         "4.6",
         "2799",
         "169.0",
         "True",
         "0",
         "Hi-Fi Speakers"
        ],
        [
         "37",
         "38",
         "B0BXQ3DQW5",
         "Samsung Q700C Soundbar Speaker (2023) - 9 Speaker Home Sound System With Adaptive Sound, Dolby Atmos & Wireless Subwoofer, Night & Voice Enhancement, Smart Surround Sound, Bluetooth, WiFi & Airplay",
         "4.7",
         "15",
         "368.99",
         "False",
         "0",
         "Hi-Fi Speakers"
        ],
        [
         "38",
         "39",
         "B0B3XX8P9C",
         "JBL Flip Essential 2 Portable Bluetooth Speaker with Rechargeable Battery, IPX7 Waterproof, 10h Battery Life, Black",
         "4.7",
         "2452",
         "74.99",
         "False",
         "0",
         "Hi-Fi Speakers"
        ],
        [
         "39",
         "40",
         "B08HRWSYH6",
         "JBL Clip 4 - Bluetooth portable speaker with integrated carabiner, waterproof and dustproof, in black",
         "4.8",
         "8625",
         "39.95",
         "False",
         "0",
         "Hi-Fi Speakers"
        ],
        [
         "40",
         "41",
         "B084P3KP2R",
         "Echo Show 10 (3rd generation) | HD smart display with motion and Alexa, Charcoal Fabric",
         "4.5",
         "5053",
         "184.99",
         "False",
         "0",
         "Hi-Fi Speakers"
        ],
        [
         "41",
         "42",
         "B00ANI7HI2",
         "Jabra Speak 510 Speaker — Portable Bluetooth Speaker, Conference Speaker — Connects to Laptops, Smartphones and Tablets — USB Plug",
         "4.7",
         "5422",
         "95.0",
         "False",
         "0",
         "Hi-Fi Speakers"
        ],
        [
         "42",
         "43",
         "B08YDZRXGN",
         "Sony SRS-XB13 - Compact & Portable Waterproof Wireless Bluetooth® speaker with EXTRA BASS™ - Blue",
         "4.7",
         "2776",
         "39.99",
         "False",
         "0",
         "Hi-Fi Speakers"
        ],
        [
         "43",
         "44",
         "B081RQP7B9",
         "W-KING Bluetooth Speaker, 30W Portable Wireless Loud Speakers, IPX6 Waterproof Outdoor Speaker with Punchy Bass, 24H Playtime, EQ, AUX, TF Card, USB Playback -Powerful Speaker for Home, Party, Outdoor",
         "4.6",
         "5622",
         "38.39",
         "False",
         "0",
         "Hi-Fi Speakers"
        ],
        [
         "44",
         "45",
         "B085G58KWT",
         "Echo (4th generation) | Premium sound Wi-Fi and Bluetooth smart speaker with Dolby, smart home hub and Alexa | Charcoal",
         "4.7",
         "38692",
         "49.99",
         "False",
         "0",
         "Hi-Fi Speakers"
        ],
        [
         "45",
         "46",
         "B07F9NGRKF",
         "EWA Travel Case Packed, A106 Pro Wireless Mini Bluetooth Speaker with Custom Bass Radiator. IP67 Waterproof, Small But Loud, Portable Speakers for Car, Bike, Outdoors, Shower (Black)",
         "4.6",
         "40628",
         "17.99",
         "False",
         "0",
         "Hi-Fi Speakers"
        ],
        [
         "46",
         "47",
         "B08LQNL42Z",
         "soundcore Anker Motion Boom Portable Bluetooth Speaker with Titanium Drivers, BassUp Technology, IPX7 Waterproof, 24H Playtime, App, Bluetooth 5.0, for Home, Party, Outdoors",
         "4.7",
         "18958",
         "89.99",
         "False",
         "0",
         "Hi-Fi Speakers"
        ],
        [
         "47",
         "48",
         "B07PCHL3ZZ",
         "Bedside Lamp with Alarm Clock Bluetooth Speaker, Night Light Bedroom Decor RGB Color Changing LED Mood Bedroom Table Lamp Birthday Gifts for her for Teenage Girls Boy, Mum Gifts Women Kids",
         "4.5",
         "2408",
         "29.99",
         "False",
         "0",
         "Hi-Fi Speakers"
        ],
        [
         "48",
         "49",
         "B0CD1H4NYH",
         "ULTIMEA Dolby Atmos Sound Bar for TV, Soundbar for 3D Surround Sound System, Bluetooth Soundbar for TV with Subwoofer, Deep Bass Adjustable, Slim TV Sound Bar, Home Theater Soundbar Speaker, Nova S50",
         "4.5",
         "239",
         "129.99",
         "False",
         "0",
         "Hi-Fi Speakers"
        ],
        [
         "49",
         "50",
         "B0BXPZ792G",
         "Samsung Q930C Soundbar Speaker (2023) - 17 Speaker Home Sound System With Adaptive Sound, Wireless Dolby Atmos And Wireless Subwoofer, Alexa Built In, Smart Surround Sound, Bluetooth, WiFi & Airplay",
         "4.1",
         "7",
         "628.5",
         "False",
         "0",
         "Hi-Fi Speakers"
        ]
       ],
       "shape": {
        "columns": 9,
        "rows": 2443651
       }
      },
      "text/html": [
       "<div>\n",
       "<style scoped>\n",
       "    .dataframe tbody tr th:only-of-type {\n",
       "        vertical-align: middle;\n",
       "    }\n",
       "\n",
       "    .dataframe tbody tr th {\n",
       "        vertical-align: top;\n",
       "    }\n",
       "\n",
       "    .dataframe thead th {\n",
       "        text-align: right;\n",
       "    }\n",
       "</style>\n",
       "<table border=\"1\" class=\"dataframe\">\n",
       "  <thead>\n",
       "    <tr style=\"text-align: right;\">\n",
       "      <th></th>\n",
       "      <th>uid</th>\n",
       "      <th>asin</th>\n",
       "      <th>title</th>\n",
       "      <th>stars</th>\n",
       "      <th>reviews</th>\n",
       "      <th>price</th>\n",
       "      <th>isBestSeller</th>\n",
       "      <th>boughtInLastMonth</th>\n",
       "      <th>category</th>\n",
       "    </tr>\n",
       "  </thead>\n",
       "  <tbody>\n",
       "    <tr>\n",
       "      <th>0</th>\n",
       "      <td>1</td>\n",
       "      <td>B09B96TG33</td>\n",
       "      <td>Echo Dot (5th generation, 2022 release) | Big ...</td>\n",
       "      <td>4.7</td>\n",
       "      <td>15308</td>\n",
       "      <td>21.99</td>\n",
       "      <td>False</td>\n",
       "      <td>0</td>\n",
       "      <td>Hi-Fi Speakers</td>\n",
       "    </tr>\n",
       "    <tr>\n",
       "      <th>1</th>\n",
       "      <td>2</td>\n",
       "      <td>B01HTH3C8S</td>\n",
       "      <td>Anker Soundcore mini, Super-Portable Bluetooth...</td>\n",
       "      <td>4.7</td>\n",
       "      <td>98099</td>\n",
       "      <td>23.99</td>\n",
       "      <td>True</td>\n",
       "      <td>0</td>\n",
       "      <td>Hi-Fi Speakers</td>\n",
       "    </tr>\n",
       "    <tr>\n",
       "      <th>2</th>\n",
       "      <td>3</td>\n",
       "      <td>B09B8YWXDF</td>\n",
       "      <td>Echo Dot (5th generation, 2022 release) | Big ...</td>\n",
       "      <td>4.7</td>\n",
       "      <td>15308</td>\n",
       "      <td>21.99</td>\n",
       "      <td>False</td>\n",
       "      <td>0</td>\n",
       "      <td>Hi-Fi Speakers</td>\n",
       "    </tr>\n",
       "    <tr>\n",
       "      <th>3</th>\n",
       "      <td>4</td>\n",
       "      <td>B09B8T5VGV</td>\n",
       "      <td>Echo Dot with clock (5th generation, 2022 rele...</td>\n",
       "      <td>4.7</td>\n",
       "      <td>7205</td>\n",
       "      <td>31.99</td>\n",
       "      <td>False</td>\n",
       "      <td>0</td>\n",
       "      <td>Hi-Fi Speakers</td>\n",
       "    </tr>\n",
       "    <tr>\n",
       "      <th>4</th>\n",
       "      <td>5</td>\n",
       "      <td>B09WX6QD65</td>\n",
       "      <td>Introducing Echo Pop | Full sound compact Wi-F...</td>\n",
       "      <td>4.6</td>\n",
       "      <td>1881</td>\n",
       "      <td>17.99</td>\n",
       "      <td>False</td>\n",
       "      <td>0</td>\n",
       "      <td>Hi-Fi Speakers</td>\n",
       "    </tr>\n",
       "    <tr>\n",
       "      <th>...</th>\n",
       "      <td>...</td>\n",
       "      <td>...</td>\n",
       "      <td>...</td>\n",
       "      <td>...</td>\n",
       "      <td>...</td>\n",
       "      <td>...</td>\n",
       "      <td>...</td>\n",
       "      <td>...</td>\n",
       "      <td>...</td>\n",
       "    </tr>\n",
       "    <tr>\n",
       "      <th>2443646</th>\n",
       "      <td>2828589</td>\n",
       "      <td>B0CHSD7P2Q</td>\n",
       "      <td>Motorbike Armour, Motorbike Clothing, Cycling ...</td>\n",
       "      <td>0.0</td>\n",
       "      <td>0</td>\n",
       "      <td>22.34</td>\n",
       "      <td>False</td>\n",
       "      <td>0</td>\n",
       "      <td>Motorbike Clothing</td>\n",
       "    </tr>\n",
       "    <tr>\n",
       "      <th>2443647</th>\n",
       "      <td>2828590</td>\n",
       "      <td>B0B7B8FNBQ</td>\n",
       "      <td>PROFIRST Waterproof Motorcycle 2 Piece Ladies ...</td>\n",
       "      <td>0.0</td>\n",
       "      <td>0</td>\n",
       "      <td>97.99</td>\n",
       "      <td>False</td>\n",
       "      <td>0</td>\n",
       "      <td>Motorbike Clothing</td>\n",
       "    </tr>\n",
       "    <tr>\n",
       "      <th>2443648</th>\n",
       "      <td>2828591</td>\n",
       "      <td>B0BD5FL5FB</td>\n",
       "      <td>Men’s Motorcycle Motorbike Biker Trousers Kevl...</td>\n",
       "      <td>0.0</td>\n",
       "      <td>0</td>\n",
       "      <td>52.99</td>\n",
       "      <td>False</td>\n",
       "      <td>0</td>\n",
       "      <td>Motorbike Clothing</td>\n",
       "    </tr>\n",
       "    <tr>\n",
       "      <th>2443649</th>\n",
       "      <td>2828592</td>\n",
       "      <td>B008OYLL4I</td>\n",
       "      <td>Texpeed Mens Motorcycle Motorbike Biker Trouse...</td>\n",
       "      <td>4.3</td>\n",
       "      <td>404</td>\n",
       "      <td>79.99</td>\n",
       "      <td>False</td>\n",
       "      <td>0</td>\n",
       "      <td>Motorbike Clothing</td>\n",
       "    </tr>\n",
       "    <tr>\n",
       "      <th>2443650</th>\n",
       "      <td>2828593</td>\n",
       "      <td>B08P3W9B3T</td>\n",
       "      <td>RIDEX CJ223 Motorcycle Motorbike Jacket Armour...</td>\n",
       "      <td>4.5</td>\n",
       "      <td>34</td>\n",
       "      <td>53.99</td>\n",
       "      <td>False</td>\n",
       "      <td>0</td>\n",
       "      <td>Motorbike Clothing</td>\n",
       "    </tr>\n",
       "  </tbody>\n",
       "</table>\n",
       "<p>2443651 rows × 9 columns</p>\n",
       "</div>"
      ],
      "text/plain": [
       "             uid        asin  \\\n",
       "0              1  B09B96TG33   \n",
       "1              2  B01HTH3C8S   \n",
       "2              3  B09B8YWXDF   \n",
       "3              4  B09B8T5VGV   \n",
       "4              5  B09WX6QD65   \n",
       "...          ...         ...   \n",
       "2443646  2828589  B0CHSD7P2Q   \n",
       "2443647  2828590  B0B7B8FNBQ   \n",
       "2443648  2828591  B0BD5FL5FB   \n",
       "2443649  2828592  B008OYLL4I   \n",
       "2443650  2828593  B08P3W9B3T   \n",
       "\n",
       "                                                     title  stars  reviews  \\\n",
       "0        Echo Dot (5th generation, 2022 release) | Big ...    4.7    15308   \n",
       "1        Anker Soundcore mini, Super-Portable Bluetooth...    4.7    98099   \n",
       "2        Echo Dot (5th generation, 2022 release) | Big ...    4.7    15308   \n",
       "3        Echo Dot with clock (5th generation, 2022 rele...    4.7     7205   \n",
       "4        Introducing Echo Pop | Full sound compact Wi-F...    4.6     1881   \n",
       "...                                                    ...    ...      ...   \n",
       "2443646  Motorbike Armour, Motorbike Clothing, Cycling ...    0.0        0   \n",
       "2443647  PROFIRST Waterproof Motorcycle 2 Piece Ladies ...    0.0        0   \n",
       "2443648  Men’s Motorcycle Motorbike Biker Trousers Kevl...    0.0        0   \n",
       "2443649  Texpeed Mens Motorcycle Motorbike Biker Trouse...    4.3      404   \n",
       "2443650  RIDEX CJ223 Motorcycle Motorbike Jacket Armour...    4.5       34   \n",
       "\n",
       "         price  isBestSeller  boughtInLastMonth            category  \n",
       "0        21.99         False                  0      Hi-Fi Speakers  \n",
       "1        23.99          True                  0      Hi-Fi Speakers  \n",
       "2        21.99         False                  0      Hi-Fi Speakers  \n",
       "3        31.99         False                  0      Hi-Fi Speakers  \n",
       "4        17.99         False                  0      Hi-Fi Speakers  \n",
       "...        ...           ...                ...                 ...  \n",
       "2443646  22.34         False                  0  Motorbike Clothing  \n",
       "2443647  97.99         False                  0  Motorbike Clothing  \n",
       "2443648  52.99         False                  0  Motorbike Clothing  \n",
       "2443649  79.99         False                  0  Motorbike Clothing  \n",
       "2443650  53.99         False                  0  Motorbike Clothing  \n",
       "\n",
       "[2443651 rows x 9 columns]"
      ]
     },
     "execution_count": 14,
     "metadata": {},
     "output_type": "execute_result"
    }
   ],
   "source": [
    "amz=pd.read_csv('C:/Users/jesus/Downloads/archive (2)/amz_uk_price_prediction_dataset.csv')\n",
    "amz"
   ]
  },
  {
   "cell_type": "markdown",
   "id": "5341da62",
   "metadata": {},
   "source": [
    "# Part 1: Analyzing Best-Seller Trends Across Product Categories\n",
    "\n",
    "Objective: Understand the relationship between product categories and their best-seller status.\n",
    "\n",
    "Crosstab Analysis:\n",
    "\n",
    "Create a crosstab between the product category and the isBestSeller status.\n",
    "\n",
    "Are there categories where being a best-seller is more prevalent?\n",
    "\n",
    "Hint: one option is to calculate the proportion of best-sellers for each category and then sort the categories based on this proportion in descending order."
   ]
  },
  {
   "cell_type": "markdown",
   "id": "0dbffcb7",
   "metadata": {},
   "source": [
    "The top categories in which being a best seller (True) is more prevalent than False are: Grocery, Smart Home Security & Lighting and Health & Personal Care as shown in the table bellow."
   ]
  },
  {
   "cell_type": "code",
   "execution_count": 15,
   "id": "6aec58dc",
   "metadata": {},
   "outputs": [
    {
     "data": {
      "application/vnd.microsoft.datawrangler.viewer.v0+json": {
       "columns": [
        {
         "name": "category",
         "rawType": "object",
         "type": "string"
        },
        {
         "name": "True",
         "rawType": "float64",
         "type": "float"
        }
       ],
       "ref": "5beeddfb-06af-46cc-ba70-470c1b328221",
       "rows": [
        [
         "Grocery",
         "0.05813467168548724"
        ],
        [
         "Smart Home Security & Lighting",
         "0.057692307692307696"
        ],
        [
         "Health & Personal Care",
         "0.057686278608005015"
        ],
        [
         "Mobile Phone Accessories",
         "0.04247104247104247"
        ],
        [
         "Power & Hand Tools",
         "0.03533895368980252"
        ]
       ],
       "shape": {
        "columns": 1,
        "rows": 5
       }
      },
      "text/plain": [
       "category\n",
       "Grocery                           0.058135\n",
       "Smart Home Security & Lighting    0.057692\n",
       "Health & Personal Care            0.057686\n",
       "Mobile Phone Accessories          0.042471\n",
       "Power & Hand Tools                0.035339\n",
       "Name: True, dtype: float64"
      ]
     },
     "execution_count": 15,
     "metadata": {},
     "output_type": "execute_result"
    }
   ],
   "source": [
    "crosstab=pd.crosstab(index=amz['category'], columns=amz['isBestSeller'])\n",
    "crosstab_prop=pd.crosstab(index=amz['category'], columns=amz['isBestSeller'],normalize='index')\n",
    "top_cat_best_seller=crosstab_prop[True].sort_values(ascending=False).head(5)\n",
    "top_cat_best_seller"
   ]
  },
  {
   "cell_type": "code",
   "execution_count": 16,
   "id": "49bc9725",
   "metadata": {},
   "outputs": [
    {
     "data": {
      "application/vnd.microsoft.datawrangler.viewer.v0+json": {
       "columns": [
        {
         "name": "category",
         "rawType": "object",
         "type": "string"
        },
        {
         "name": "False",
         "rawType": "int64",
         "type": "integer"
        },
        {
         "name": "True",
         "rawType": "int64",
         "type": "integer"
        }
       ],
       "ref": "302acb05-b6f1-412c-9c41-814dc19ba88e",
       "rows": [
        [
         "3D Printers",
         "247",
         "1"
        ],
        [
         "3D Printing & Scanning",
         "4065",
         "2"
        ],
        [
         "Abrasive & Finishing Products",
         "245",
         "5"
        ],
        [
         "Action Cameras",
         "1696",
         "1"
        ],
        [
         "Adapters",
         "251",
         "3"
        ],
        [
         "Agricultural Equipment & Supplies",
         "8421",
         "109"
        ],
        [
         "Alexa Built-In Devices",
         "106",
         "1"
        ],
        [
         "Art & Craft Supplies",
         "253",
         "5"
        ],
        [
         "Arts & Crafts",
         "9319",
         "230"
        ],
        [
         "Baby",
         "14709",
         "341"
        ],
        [
         "Baby & Toddler Toys",
         "9332",
         "24"
        ],
        [
         "Bakeware",
         "233",
         "6"
        ],
        [
         "Ballet & Dancing Footwear",
         "3238",
         "2"
        ],
        [
         "Barebone PCs",
         "9478",
         "0"
        ],
        [
         "Basketball Footwear",
         "6710",
         "0"
        ],
        [
         "Bass Guitars & Gear",
         "523",
         "5"
        ],
        [
         "Bath & Body",
         "19059",
         "33"
        ],
        [
         "Bathroom Furniture",
         "2766",
         "15"
        ],
        [
         "Bathroom Lighting",
         "252",
         "2"
        ],
        [
         "Bathroom Linen",
         "401",
         "5"
        ],
        [
         "Beauty",
         "19010",
         "302"
        ],
        [
         "Bedding & Linen",
         "3109",
         "6"
        ],
        [
         "Bedding Accessories",
         "200",
         "5"
        ],
        [
         "Bedding Collections",
         "6309",
         "0"
        ],
        [
         "Bedroom Furniture",
         "5229",
         "22"
        ],
        [
         "Beer, Wine & Spirits",
         "9522",
         "31"
        ],
        [
         "Billiard, Snooker & Pool",
         "241",
         "8"
        ],
        [
         "Binoculars, Telescopes & Optics",
         "9486",
         "11"
        ],
        [
         "Bird & Wildlife Care",
         "9282",
         "9"
        ],
        [
         "Birthday Gifts",
         "18943",
         "35"
        ],
        [
         "Blank Media Cases & Wallets",
         "243",
         "0"
        ],
        [
         "Boating Footwear",
         "140",
         "0"
        ],
        [
         "Bowling",
         "243",
         "4"
        ],
        [
         "Boxes & Organisers",
         "911",
         "0"
        ],
        [
         "Boxing Shoes",
         "4071",
         "3"
        ],
        [
         "Boys",
         "11702",
         "87"
        ],
        [
         "Building & Construction Toys",
         "9481",
         "9"
        ],
        [
         "Building Supplies",
         "7996",
         "134"
        ],
        [
         "CD, Disc & Tape Players",
         "8798",
         "0"
        ],
        [
         "CPUs",
         "249",
         "0"
        ],
        [
         "Cables & Accessories",
         "9043",
         "15"
        ],
        [
         "Calendars & Personal Organisers",
         "246",
         "4"
        ],
        [
         "Camcorders",
         "487",
         "1"
        ],
        [
         "Camera & Photo Accessories",
         "9329",
         "83"
        ],
        [
         "Cameras",
         "181",
         "1"
        ],
        [
         "Candles & Holders",
         "248",
         "1"
        ],
        [
         "Car & Motorbike",
         "9296",
         "87"
        ],
        [
         "Car & Vehicle Electronics",
         "8598",
         "48"
        ],
        [
         "Children's Bedding",
         "258",
         "4"
        ],
        [
         "Climbing Footwear",
         "2200",
         "1"
        ]
       ],
       "shape": {
        "columns": 2,
        "rows": 296
       }
      },
      "text/html": [
       "<div>\n",
       "<style scoped>\n",
       "    .dataframe tbody tr th:only-of-type {\n",
       "        vertical-align: middle;\n",
       "    }\n",
       "\n",
       "    .dataframe tbody tr th {\n",
       "        vertical-align: top;\n",
       "    }\n",
       "\n",
       "    .dataframe thead th {\n",
       "        text-align: right;\n",
       "    }\n",
       "</style>\n",
       "<table border=\"1\" class=\"dataframe\">\n",
       "  <thead>\n",
       "    <tr style=\"text-align: right;\">\n",
       "      <th>isBestSeller</th>\n",
       "      <th>False</th>\n",
       "      <th>True</th>\n",
       "    </tr>\n",
       "    <tr>\n",
       "      <th>category</th>\n",
       "      <th></th>\n",
       "      <th></th>\n",
       "    </tr>\n",
       "  </thead>\n",
       "  <tbody>\n",
       "    <tr>\n",
       "      <th>3D Printers</th>\n",
       "      <td>247</td>\n",
       "      <td>1</td>\n",
       "    </tr>\n",
       "    <tr>\n",
       "      <th>3D Printing &amp; Scanning</th>\n",
       "      <td>4065</td>\n",
       "      <td>2</td>\n",
       "    </tr>\n",
       "    <tr>\n",
       "      <th>Abrasive &amp; Finishing Products</th>\n",
       "      <td>245</td>\n",
       "      <td>5</td>\n",
       "    </tr>\n",
       "    <tr>\n",
       "      <th>Action Cameras</th>\n",
       "      <td>1696</td>\n",
       "      <td>1</td>\n",
       "    </tr>\n",
       "    <tr>\n",
       "      <th>Adapters</th>\n",
       "      <td>251</td>\n",
       "      <td>3</td>\n",
       "    </tr>\n",
       "    <tr>\n",
       "      <th>...</th>\n",
       "      <td>...</td>\n",
       "      <td>...</td>\n",
       "    </tr>\n",
       "    <tr>\n",
       "      <th>Wind Instruments</th>\n",
       "      <td>243</td>\n",
       "      <td>7</td>\n",
       "    </tr>\n",
       "    <tr>\n",
       "      <th>Window Treatments</th>\n",
       "      <td>234</td>\n",
       "      <td>5</td>\n",
       "    </tr>\n",
       "    <tr>\n",
       "      <th>Women</th>\n",
       "      <td>17559</td>\n",
       "      <td>213</td>\n",
       "    </tr>\n",
       "    <tr>\n",
       "      <th>Women's Sports &amp; Outdoor Shoes</th>\n",
       "      <td>1939</td>\n",
       "      <td>20</td>\n",
       "    </tr>\n",
       "    <tr>\n",
       "      <th>eBook Readers &amp; Accessories</th>\n",
       "      <td>246</td>\n",
       "      <td>0</td>\n",
       "    </tr>\n",
       "  </tbody>\n",
       "</table>\n",
       "<p>296 rows × 2 columns</p>\n",
       "</div>"
      ],
      "text/plain": [
       "isBestSeller                    False  True \n",
       "category                                    \n",
       "3D Printers                       247      1\n",
       "3D Printing & Scanning           4065      2\n",
       "Abrasive & Finishing Products     245      5\n",
       "Action Cameras                   1696      1\n",
       "Adapters                          251      3\n",
       "...                               ...    ...\n",
       "Wind Instruments                  243      7\n",
       "Window Treatments                 234      5\n",
       "Women                           17559    213\n",
       "Women's Sports & Outdoor Shoes   1939     20\n",
       "eBook Readers & Accessories       246      0\n",
       "\n",
       "[296 rows x 2 columns]"
      ]
     },
     "execution_count": 16,
     "metadata": {},
     "output_type": "execute_result"
    }
   ],
   "source": [
    "crosstab"
   ]
  },
  {
   "cell_type": "code",
   "execution_count": 17,
   "id": "3c025709",
   "metadata": {},
   "outputs": [
    {
     "data": {
      "text/plain": [
       "<Axes: ylabel='category'>"
      ]
     },
     "execution_count": 17,
     "metadata": {},
     "output_type": "execute_result"
    },
    {
     "data": {
      "image/png": "[encoded data removed]",
      "text/plain": [
       "<Figure size 640x480 with 1 Axes>"
      ]
     },
     "metadata": {},
     "output_type": "display_data"
    }
   ],
   "source": [
    "sns.barplot(x=top_cat_best_seller.values, y=top_cat_best_seller.index)"
   ]
  },
  {
   "cell_type": "markdown",
   "id": "03f620d3",
   "metadata": {},
   "source": [
    "Statistical Tests:\n",
    "\n",
    "Conduct a Chi-square test to determine if the best-seller distribution is independent of the product category.\n",
    "Compute Cramér's V to understand the strength of association between best-seller status and category.\n",
    "Visualizations:"
   ]
  },
  {
   "cell_type": "markdown",
   "id": "07ab1144",
   "metadata": {},
   "source": [
    "Based on the bellow analysis product category and best-seller status are definitely not independent. There is a statistically significant relationship between them."
   ]
  },
  {
   "cell_type": "code",
   "execution_count": 18,
   "id": "d32ec00c",
   "metadata": {},
   "outputs": [
    {
     "data": {
      "text/plain": [
       "(np.float64(36540.20270061387), np.float64(0.0))"
      ]
     },
     "execution_count": 18,
     "metadata": {},
     "output_type": "execute_result"
    }
   ],
   "source": [
    "chi2_statistic, chi2_p_value, _, _ = chi2_contingency(crosstab)\n",
    "\n",
    "chi2_statistic, chi2_p_value"
   ]
  },
  {
   "cell_type": "code",
   "execution_count": 19,
   "id": "31b12eb6",
   "metadata": {},
   "outputs": [
    {
     "data": {
      "text/plain": [
       "0.1222829439760564"
      ]
     },
     "execution_count": 19,
     "metadata": {},
     "output_type": "execute_result"
    }
   ],
   "source": [
    "association(crosstab, method=\"cramer\")"
   ]
  },
  {
   "cell_type": "markdown",
   "id": "a4bcc48d",
   "metadata": {},
   "source": [
    "Visualize the relationship between product categories and the best-seller status using a stacked bar chart."
   ]
  },
  {
   "cell_type": "code",
   "execution_count": 20,
   "id": "855c86b3",
   "metadata": {},
   "outputs": [
    {
     "data": {
      "text/plain": [
       "<Axes: xlabel='category'>"
      ]
     },
     "execution_count": 20,
     "metadata": {},
     "output_type": "execute_result"
    },
    {
     "data": {
      "image/png": "[encoded data removed]",
      "text/plain": [
       "<Figure size 640x480 with 1 Axes>"
      ]
     },
     "metadata": {},
     "output_type": "display_data"
    }
   ],
   "source": [
    "filtered_crosstab = crosstab_prop.sort_values(by=True, ascending=False).head(5)\n",
    "filtered_crosstab.plot(kind=\"bar\", stacked=True)"
   ]
  },
  {
   "cell_type": "markdown",
   "id": "d128d994",
   "metadata": {},
   "source": [
    "## Part 2: Exploring Product Prices and Ratings Across Categories and Brands\n",
    "# Objective: Investigate how different product categories influence product prices.\n",
    "\n",
    "Preliminary Step: Remove outliers in product prices.\n",
    "\n",
    "For this purpose, we can use the IQR (Interquartile Range) method. Products priced below the first quartile minus 1.5 times the IQR or above the third quartile plus 1.5 times the IQR will be considered outliers and removed from the dataset. The next steps will be done with the dataframe without outliers.\n",
    "\n",
    "Hint: you can check the last Check For Understanding at the end of the lesson EDA Bivariate Analysis for a hint on how to do this."
   ]
  },
  {
   "cell_type": "code",
   "execution_count": 21,
   "id": "5e1d88dd",
   "metadata": {},
   "outputs": [
    {
     "data": {
      "application/vnd.microsoft.datawrangler.viewer.v0+json": {
       "columns": [
        {
         "name": "index",
         "rawType": "int64",
         "type": "integer"
        },
        {
         "name": "uid",
         "rawType": "int64",
         "type": "integer"
        },
        {
         "name": "asin",
         "rawType": "object",
         "type": "string"
        },
        {
         "name": "title",
         "rawType": "object",
         "type": "string"
        },
        {
         "name": "stars",
         "rawType": "float64",
         "type": "float"
        },
        {
         "name": "reviews",
         "rawType": "int64",
         "type": "integer"
        },
        {
         "name": "price",
         "rawType": "float64",
         "type": "float"
        },
        {
         "name": "isBestSeller",
         "rawType": "bool",
         "type": "boolean"
        },
        {
         "name": "boughtInLastMonth",
         "rawType": "int64",
         "type": "integer"
        },
        {
         "name": "category",
         "rawType": "object",
         "type": "string"
        }
       ],
       "ref": "6d0e8977-7cf7-4120-b03f-7f40b2bb8f34",
       "rows": [
        [
         "2443640",
         "2828581",
         "B0BX2KM9KQ",
         "Motorcycle Socks 2 Pairs I'd Rather be on My Motorbike Socks Funny Motorcycle Gifts for Motorcycle Riders Biker",
         "0.0",
         "0",
         "10.99",
         "False",
         "0",
         "Motorbike Clothing"
        ],
        [
         "2443631",
         "2828572",
         "B01N1GW57Z",
         "WULFSPORT LINEAR MOTORBIKE KIDS RACE SUIT New 2022 Motocross Quad Enduro ATV MX Pit Sport Junior Pant Shirt Kit (Green,5-7 years)",
         "5.0",
         "4",
         "60.62",
         "False",
         "0",
         "Motorbike Clothing"
        ],
        [
         "2443625",
         "2828566",
         "B095K5HFZ7",
         "SHIMA SX-2 EVO LADY Motorbike Shoes for Women - Breathable, Reinforced Leather Street Riding Shoes with Ankle Support, Anti-Slip Sole, Gear Pad",
         "4.6",
         "170",
         "99.95",
         "False",
         "0",
         "Motorbike Clothing"
        ],
        [
         "2443622",
         "2828563",
         "6040458925",
         "starlingukpk Quality Flexible Motorbike Motorcycle Protector.Shoulder Inserts.",
         "4.2",
         "2",
         "9.99",
         "False",
         "0",
         "Motorbike Clothing"
        ],
        [
         "2443619",
         "2828560",
         "B07JLZB7YY",
         "Motorcycle Clothing Suit - Motorbike Suit With Racing Gloves - Motorbike Boots Leather Shoes - 2 Piece Suit Armored Waterproof Suits Jacket Trouser CE Armor For All Weather Mens - Size 6Xtra Large",
         "0.0",
         "0",
         "166.99",
         "False",
         "0",
         "Motorbike Clothing"
        ],
        [
         "2443617",
         "2828557",
         "B09PF91P71",
         "DRH RAPIDO SHORT ANKLE Motorcycle/Motorbike Style Leather Boots/Shoes Par",
         "3.5",
         "13",
         "51.99",
         "False",
         "0",
         "Motorbike Clothing"
        ],
        [
         "2443616",
         "2828556",
         "B098D2P58R",
         "Zorax ZOR-X19 Kids Motocross Helmet + Gloves + Goggles + Leopard Suit for Boys Girls Quad Birt Bike Racing Karting",
         "4.1",
         "20",
         "71.95",
         "False",
         "0",
         "Motorbike Clothing"
        ],
        [
         "2443615",
         "2828554",
         "B09PDJLBXP",
         "Zorax ZOR-604 Scooter Motorcycle Motorbike Open Face Crash Jet Helmet for Men Women Road Legal",
         "4.3",
         "244",
         "34.99",
         "False",
         "0",
         "Motorbike Clothing"
        ],
        [
         "2443614",
         "2828553",
         "B09ZNN4282",
         "SHIMA Edge Men, Men's Motorcycle Boots",
         "3.9",
         "59",
         "119.95",
         "False",
         "0",
         "Motorbike Clothing"
        ],
        [
         "2443613",
         "2828552",
         "B093SSQGX7",
         "WYH Motorcycle Jacket And Trousers Set, Waterproof Motocross Riding Jacket Windproof Touring Protective Armoured Suits, Autumn Winter for Men and Women Racers Motorbike Clothing",
         "3.8",
         "4",
         "169.99",
         "False",
         "0",
         "Motorbike Clothing"
        ],
        [
         "2443610",
         "2828548",
         "B09JSHYSWV",
         "Scoyco Men's Motorcycle Gloves Summer Half Finger Motocross Racing Gloves Hard Knuckle Extreme Sports Guard for BMX ATV MTB Riding Cycling",
         "4.3",
         "63",
         "13.99",
         "False",
         "0",
         "Motorbike Clothing"
        ],
        [
         "2443602",
         "2828538",
         "B07QFDWSWZ",
         "HWK Motorcycle Jacket for Men Adventure/Touring with Cordura Textile Fabric for Motorbike Riding and Impact Protection Armor",
         "4.5",
         "314",
         "69.99",
         "False",
         "0",
         "Motorbike Clothing"
        ],
        [
         "2443601",
         "2828537",
         "B09MZJ24QJ",
         "Motorcycle Beer Gifts for Men, WZLEMOM Vintage Motorcycle Bottle Opener, Beer Opener for Bar Party, Motorbike Gifts for Men, Christmas Gifts, Valentines Gift, Birthday Gift Unique Beer Gift for Men",
         "4.7",
         "2439",
         "8.99",
         "False",
         "200",
         "Motorbike Clothing"
        ],
        [
         "2443600",
         "2828536",
         "B0BMPDH1SR",
         "3 Pcs Balaclava Ski Mask for Men Winter Half Ski Face Mask Neck Warmer Gaiter Windproof Snoods for Motorcycle Snowboard Motorbike",
         "4.0",
         "1",
         "16.99",
         "False",
         "0",
         "Motorbike Clothing"
        ],
        [
         "2443599",
         "2828535",
         "B08SKHT48X",
         "600D Cordura Waterproof Textile & Leather Motorcycle/Motorbike Gloves",
         "3.4",
         "13",
         "15.99",
         "False",
         "0",
         "Motorbike Clothing"
        ],
        [
         "2443597",
         "2828533",
         "B09F9TZMP5",
         "Motorcycle Warm for Men winter waterproof anti-fall plus velvet thickening touch screen riding thermal gloves Motorbike gloves winter",
         "3.7",
         "16",
         "24.0",
         "False",
         "0",
         "Motorbike Clothing"
        ],
        [
         "2443594",
         "2828530",
         "B08WKKC6WX",
         "Brown Leather Best Waterproof Thermal Thinsulate Warm Winter Motorcycle Motorbike Racing & Sport Gloves Easy Wrist Fastening",
         "3.6",
         "26",
         "16.99",
         "False",
         "0",
         "Motorbike Clothing"
        ],
        [
         "2443587",
         "2828522",
         "B095PLR3JB",
         "Biker Dirt Motorcycle Motocross Helmet Bike Motorbike V-Neck T-Shirt",
         "0.0",
         "0",
         "19.99",
         "False",
         "0",
         "Motorbike Clothing"
        ],
        [
         "2443585",
         "2828520",
         "B0C7ZZ3T32",
         "REXTEK Motorbike Fleece Motorcycle Hoodie Armoured - Zip Up Removable CE Armor for Mens Boys",
         "4.3",
         "6",
         "49.99",
         "False",
         "0",
         "Motorbike Clothing"
        ],
        [
         "2443583",
         "2828517",
         "B07SN3KB6J",
         "INBIKE Leather Motorbike Gloves Protective Motorcycle Carbon Shell Hard Knuckle Glove",
         "4.5",
         "12",
         "49.99",
         "False",
         "0",
         "Motorbike Clothing"
        ],
        [
         "2443581",
         "2828514",
         "B08CBBN7T5",
         "Motorcycle Motorbike Suit 2 Piece - Motorbike Suit with Gloves & Shoes – Waterproof Clothing Suits Jacket Trouser CE Approved Armor for All Weather (XS, Grey)",
         "5.0",
         "1",
         "158.49",
         "False",
         "0",
         "Motorbike Clothing"
        ],
        [
         "2443579",
         "2828512",
         "B09GWDHD8B",
         "Oro Biker Motorbike Motorcycle Gloves, Premium Leather and Breathable Summer Mesh Hard Knuckle Touchscreen Motorbike Gloves Racing ATV Riding Gloves",
         "4.4",
         "33",
         "22.99",
         "False",
         "0",
         "Motorbike Clothing"
        ],
        [
         "2443577",
         "2828509",
         "B07JMBH1SV",
         "Motorcycle Clothing Suit - Motorbike Suit With Racing Gloves - Motorbike Boots Leather Shoes - 2 Piece Suit Armored Waterproof Suits Jacket Trouser CE Armor For All Weather Mens - Size 4Xtra Large",
         "0.0",
         "0",
         "166.99",
         "False",
         "0",
         "Motorbike Clothing"
        ],
        [
         "2443576",
         "2828508",
         "B0C59MHSLM",
         "Brand88 I'm A Biker, Motorbike Gifts, Motorcycle Accessories Ladies Printed T-Shirt Womens Shirt, Girls tees, Girl's Top",
         "0.0",
         "0",
         "14.5",
         "False",
         "0",
         "Motorbike Clothing"
        ],
        [
         "2443574",
         "2828506",
         "B0C55PGT54",
         "VASTER Motorcycle Rider Boots Leather Waterproof Racing Shoes Men's Motorbike Touring CE APPROVED EN 13634:2017",
         "4.2",
         "67",
         "54.99",
         "False",
         "0",
         "Motorbike Clothing"
        ],
        [
         "2443572",
         "2828504",
         "B098R28MLB",
         "Texpeed Womens Motorcycle Biker Trousers Ladies Cordura Waterproof Textile With Protective Motorbike CE Armour (EN 1621-1)",
         "4.2",
         "164",
         "57.99",
         "False",
         "0",
         "Motorbike Clothing"
        ],
        [
         "2443570",
         "2828502",
         "B01N2NQ9E4",
         "BEEWAY Balaclava Face Mask - Motorcycle Cycling Ski Mask Neck Warm for Helmet - UV Wind Protection, Breathable, Unisex Men Women",
         "4.3",
         "1523",
         "3.99",
         "False",
         "0",
         "Motorbike Clothing"
        ],
        [
         "2443569",
         "2828501",
         "B086VWC6YL",
         "Jet Motorcycle Motorbike Jacket Mens Textile Waterproof Armoured Mid Length 3 Layer Multi Season GOODWOOD",
         "4.1",
         "55",
         "79.99",
         "False",
         "0",
         "Motorbike Clothing"
        ],
        [
         "2443568",
         "2828500",
         "B0B5DN4SL7",
         "ZXT MOTO Mens Motorbike Boots Waterproof Motorcycle Leather Shoes Racing Touring Size UK 8 9 10 sports",
         "3.8",
         "17",
         "45.49",
         "False",
         "0",
         "Motorbike Clothing"
        ],
        [
         "2443567",
         "2828499",
         "B0957DRWKG",
         "Seektop Motorcycle Gloves, Motorbike Gloves for Men Women Hard Knuckle Full Finger Touch Screen Gloves for BMX ATV MTB Riding",
         "4.1",
         "407",
         "16.99",
         "False",
         "0",
         "Motorbike Clothing"
        ],
        [
         "2443566",
         "2828498",
         "B0BMLSDW4L",
         "RideMaxx Winter Motorcycle Gloves Leather Motorbike Gloves Water Proof Touch Screen Compatible Leather Gloves ATV Riding Gloves",
         "4.0",
         "1",
         "19.99",
         "False",
         "0",
         "Motorbike Clothing"
        ],
        [
         "2443565",
         "2828497",
         "B0CH99JRY6",
         "RTX Leathers Universal Durable Motorcycle Knee Sliders Motorbike Knee Slider Pucks - Hook and Loop Backed for Racing/Trackday Training/Road Motorbike Riding. (Floro Yellow)",
         "0.0",
         "0",
         "19.99",
         "False",
         "0",
         "Motorbike Clothing"
        ],
        [
         "2443563",
         "2828495",
         "B07H929CHS",
         "Qbuds Summer Leather Motorcycle Gloves with Reinforced Patch Palm, Driver Men Motorbike ATV MTB Riding, Road Racing Motocross, Cycling Outdoor Sports Full Finger Gloves (Yellow, L)",
         "4.1",
         "223",
         "19.99",
         "False",
         "0",
         "Motorbike Clothing"
        ],
        [
         "2443561",
         "2828490",
         "B095HW4KJ1",
         "VASTER Motorcycle Boots Leather Waterproof Motorbike Shoes Short ankle racing boots Lace Up Riding Touring Adventure Outdoor Boot",
         "4.3",
         "2",
         "54.99",
         "False",
         "0",
         "Motorbike Clothing"
        ],
        [
         "2443560",
         "2828488",
         "B07V3KWN7T",
         "Oxford RP-5 2.0 Ladies Sports Motorcycle Motorbike Leather Gloves Blue Medium",
         "5.0",
         "2",
         "42.99",
         "False",
         "0",
         "Motorbike Clothing"
        ],
        [
         "2443559",
         "2828486",
         "B07CHMGJ31",
         "Bikers Gear Australia Motorcycle Kevlar Aramid Lined Protective Flannel Shirt Stripe",
         "4.8",
         "12",
         "78.09",
         "False",
         "0",
         "Motorbike Clothing"
        ],
        [
         "2443557",
         "2828484",
         "B0B84TLVPY",
         "ZXT MOTO Motorbike Suit Motorcycle Mens jacket with trouser Armoured 2 Piece Suit Waterproof CE Armour For All season Red Suits Trousers color",
         "4.3",
         "27",
         "84.44",
         "False",
         "0",
         "Motorbike Clothing"
        ],
        [
         "2443555",
         "2828481",
         "B07TFJJ11F",
         "ONEX Motorcycle Gloves, Hard Knuckle Touch Screen Gloves Motorcycle Gloves Motorbike ATV Riding Full Finger Leather and textile mix. Gloves for Men.",
         "3.8",
         "22",
         "8.99",
         "False",
         "0",
         "Motorbike Clothing"
        ],
        [
         "2443554",
         "2828480",
         "B07JNHJ1GK",
         "Oxford Black Lightweight Lycra Neck Tube CA105",
         "4.1",
         "107",
         "7.83",
         "False",
         "0",
         "Motorbike Clothing"
        ],
        [
         "2443553",
         "2828479",
         "B0CF2DFCRV",
         "INFLORI Motorbike Jacket Motorcycle Waterproof Jacket for men Corduroy 600D CE Approved Protective Armored Clothing with Hi-Vis Panels Summer and Winter Jacket",
         "0.0",
         "0",
         "54.99",
         "False",
         "0",
         "Motorbike Clothing"
        ],
        [
         "2443552",
         "2828478",
         "B09TWH424G",
         "Motorcycle Trousers for Men, Elastic Motorbike Jeans Mens, Clothing for Bike Ride and Outdoor Sports, Multi-Color Optional Suitable for Winter and Summer, 4 X Protective Equipment",
         "4.2",
         "32",
         "49.99",
         "False",
         "0",
         "Motorbike Clothing"
        ],
        [
         "2443550",
         "2828475",
         "B073GZJKWY",
         "Wulfsport Adult Attack Motocross Gloves MX Motorcycle Motorbike Gloves - Yellow S",
         "4.1",
         "4",
         "15.49",
         "False",
         "0",
         "Motorbike Clothing"
        ],
        [
         "2443546",
         "2828471",
         "B0BYP41HC7",
         "SUPER BIKERS Motorcycle Rider Boots Leather Waterproof Racing Shoes Men's Motorbike Touring CE Armour Leather Boot Green",
         "4.5",
         "16",
         "49.99",
         "False",
         "0",
         "Motorbike Clothing"
        ],
        [
         "2443542",
         "2828466",
         "B09YVC3TRN",
         "ZXT MOTO Motorbike short racing boots Motorcycle Shoes Biker Racing Stylist Boots Waterproof Armoured For Mens Boys Rider Boots",
         "4.2",
         "40",
         "44.99",
         "False",
         "0",
         "Motorbike Clothing"
        ],
        [
         "2443540",
         "2828463",
         "B07D9VKKJH",
         "LADIES PINK SPEED MAXX WOMENS MOTORBIKE/MOTORCYCLE/MOTOCROSS TEXTILE GLOVES",
         "4.3",
         "190",
         "16.99",
         "False",
         "0",
         "Motorbike Clothing"
        ],
        [
         "2443539",
         "2828462",
         "B075RWNTTP",
         "Islero Premium Leather Casual Formal Gloves Motorbike Motorcycle Driving Riding Fashion All Weather Winter Men Dress Retro Gloves",
         "4.3",
         "58",
         "10.99",
         "False",
         "0",
         "Motorbike Clothing"
        ],
        [
         "2443538",
         "2828461",
         "B08VGQ5FTN",
         "Dainese Air-Maze Unisex Gloves, Motorbike Summer Gloves With Touchscreen, for Men and Women, Black/Red, M",
         "4.4",
         "36",
         "37.77",
         "False",
         "0",
         "Motorbike Clothing"
        ],
        [
         "2443536",
         "2828458",
         "B0BD5HYT2M",
         "Ladies Motorcycle Motorbike Biker Trousers Kevlar Jeans Pants Protective with CE Armour Biker Gear Knee and Hip Armours Protection Clothing for Bikers",
         "4.5",
         "2",
         "49.99",
         "False",
         "0",
         "Motorbike Clothing"
        ],
        [
         "2443534",
         "2828456",
         "B09G2Y5FPP",
         "Motorcycle Handlebar Gloves Motorbike Muffs Windproof Waterproof Handlebar Warmers Winter Warm Bike Handle Bar Mittens Cycling Hand Warmers Hand Guard for Scooters Bike",
         "2.8",
         "11",
         "12.98",
         "False",
         "0",
         "Motorbike Clothing"
        ],
        [
         "2443533",
         "2828455",
         "B07RMYBB7C",
         "Winter Motorcycle Gloves for Men Women, Windproof Waterproof Motorbike Gloves, Warm Long Cuff Biker Gloves with Hard Knuckle Protection Touchscreen Gloves for BMX ATV MTB Riding, Road Racing Black M",
         "4.0",
         "14",
         "29.99",
         "False",
         "0",
         "Motorbike Clothing"
        ]
       ],
       "shape": {
        "columns": 9,
        "rows": 327688
       }
      },
      "text/html": [
       "<div>\n",
       "<style scoped>\n",
       "    .dataframe tbody tr th:only-of-type {\n",
       "        vertical-align: middle;\n",
       "    }\n",
       "\n",
       "    .dataframe tbody tr th {\n",
       "        vertical-align: top;\n",
       "    }\n",
       "\n",
       "    .dataframe thead th {\n",
       "        text-align: right;\n",
       "    }\n",
       "</style>\n",
       "<table border=\"1\" class=\"dataframe\">\n",
       "  <thead>\n",
       "    <tr style=\"text-align: right;\">\n",
       "      <th></th>\n",
       "      <th>uid</th>\n",
       "      <th>asin</th>\n",
       "      <th>title</th>\n",
       "      <th>stars</th>\n",
       "      <th>reviews</th>\n",
       "      <th>price</th>\n",
       "      <th>isBestSeller</th>\n",
       "      <th>boughtInLastMonth</th>\n",
       "      <th>category</th>\n",
       "    </tr>\n",
       "  </thead>\n",
       "  <tbody>\n",
       "    <tr>\n",
       "      <th>2443640</th>\n",
       "      <td>2828581</td>\n",
       "      <td>B0BX2KM9KQ</td>\n",
       "      <td>Motorcycle Socks 2 Pairs I'd Rather be on My M...</td>\n",
       "      <td>0.0</td>\n",
       "      <td>0</td>\n",
       "      <td>10.99</td>\n",
       "      <td>False</td>\n",
       "      <td>0</td>\n",
       "      <td>Motorbike Clothing</td>\n",
       "    </tr>\n",
       "    <tr>\n",
       "      <th>2443631</th>\n",
       "      <td>2828572</td>\n",
       "      <td>B01N1GW57Z</td>\n",
       "      <td>WULFSPORT LINEAR MOTORBIKE KIDS RACE SUIT New ...</td>\n",
       "      <td>5.0</td>\n",
       "      <td>4</td>\n",
       "      <td>60.62</td>\n",
       "      <td>False</td>\n",
       "      <td>0</td>\n",
       "      <td>Motorbike Clothing</td>\n",
       "    </tr>\n",
       "    <tr>\n",
       "      <th>2443625</th>\n",
       "      <td>2828566</td>\n",
       "      <td>B095K5HFZ7</td>\n",
       "      <td>SHIMA SX-2 EVO LADY Motorbike Shoes for Women ...</td>\n",
       "      <td>4.6</td>\n",
       "      <td>170</td>\n",
       "      <td>99.95</td>\n",
       "      <td>False</td>\n",
       "      <td>0</td>\n",
       "      <td>Motorbike Clothing</td>\n",
       "    </tr>\n",
       "    <tr>\n",
       "      <th>2443622</th>\n",
       "      <td>2828563</td>\n",
       "      <td>6040458925</td>\n",
       "      <td>starlingukpk Quality Flexible Motorbike Motorc...</td>\n",
       "      <td>4.2</td>\n",
       "      <td>2</td>\n",
       "      <td>9.99</td>\n",
       "      <td>False</td>\n",
       "      <td>0</td>\n",
       "      <td>Motorbike Clothing</td>\n",
       "    </tr>\n",
       "    <tr>\n",
       "      <th>2443619</th>\n",
       "      <td>2828560</td>\n",
       "      <td>B07JLZB7YY</td>\n",
       "      <td>Motorcycle Clothing Suit - Motorbike Suit With...</td>\n",
       "      <td>0.0</td>\n",
       "      <td>0</td>\n",
       "      <td>166.99</td>\n",
       "      <td>False</td>\n",
       "      <td>0</td>\n",
       "      <td>Motorbike Clothing</td>\n",
       "    </tr>\n",
       "    <tr>\n",
       "      <th>...</th>\n",
       "      <td>...</td>\n",
       "      <td>...</td>\n",
       "      <td>...</td>\n",
       "      <td>...</td>\n",
       "      <td>...</td>\n",
       "      <td>...</td>\n",
       "      <td>...</td>\n",
       "      <td>...</td>\n",
       "      <td>...</td>\n",
       "    </tr>\n",
       "    <tr>\n",
       "      <th>31</th>\n",
       "      <td>32</td>\n",
       "      <td>B08MQRDDYB</td>\n",
       "      <td>Echo Show 15 | Full HD 15.6\" smart display wit...</td>\n",
       "      <td>4.4</td>\n",
       "      <td>2616</td>\n",
       "      <td>199.99</td>\n",
       "      <td>False</td>\n",
       "      <td>0</td>\n",
       "      <td>Hi-Fi Speakers</td>\n",
       "    </tr>\n",
       "    <tr>\n",
       "      <th>23</th>\n",
       "      <td>24</td>\n",
       "      <td>B09HGRXXTM</td>\n",
       "      <td>JBL Flip 6 Portable Bluetooth Speaker with 2-w...</td>\n",
       "      <td>4.7</td>\n",
       "      <td>8700</td>\n",
       "      <td>98.95</td>\n",
       "      <td>False</td>\n",
       "      <td>0</td>\n",
       "      <td>Hi-Fi Speakers</td>\n",
       "    </tr>\n",
       "    <tr>\n",
       "      <th>12</th>\n",
       "      <td>13</td>\n",
       "      <td>B09ZXDMNCY</td>\n",
       "      <td>Introducing Echo Pop | Full sound compact Wi-F...</td>\n",
       "      <td>4.6</td>\n",
       "      <td>1881</td>\n",
       "      <td>17.99</td>\n",
       "      <td>False</td>\n",
       "      <td>0</td>\n",
       "      <td>Hi-Fi Speakers</td>\n",
       "    </tr>\n",
       "    <tr>\n",
       "      <th>9</th>\n",
       "      <td>10</td>\n",
       "      <td>B09ZQF5GZW</td>\n",
       "      <td>RIENOK Bluetooth Speaker Portable Wireless Blu...</td>\n",
       "      <td>4.5</td>\n",
       "      <td>16014</td>\n",
       "      <td>29.99</td>\n",
       "      <td>False</td>\n",
       "      <td>0</td>\n",
       "      <td>Hi-Fi Speakers</td>\n",
       "    </tr>\n",
       "    <tr>\n",
       "      <th>7</th>\n",
       "      <td>8</td>\n",
       "      <td>B01MTB55WH</td>\n",
       "      <td>Anker Soundcore 2 Portable Bluetooth Speaker w...</td>\n",
       "      <td>4.7</td>\n",
       "      <td>103673</td>\n",
       "      <td>39.99</td>\n",
       "      <td>False</td>\n",
       "      <td>0</td>\n",
       "      <td>Hi-Fi Speakers</td>\n",
       "    </tr>\n",
       "  </tbody>\n",
       "</table>\n",
       "<p>327688 rows × 9 columns</p>\n",
       "</div>"
      ],
      "text/plain": [
       "             uid        asin  \\\n",
       "2443640  2828581  B0BX2KM9KQ   \n",
       "2443631  2828572  B01N1GW57Z   \n",
       "2443625  2828566  B095K5HFZ7   \n",
       "2443622  2828563  6040458925   \n",
       "2443619  2828560  B07JLZB7YY   \n",
       "...          ...         ...   \n",
       "31            32  B08MQRDDYB   \n",
       "23            24  B09HGRXXTM   \n",
       "12            13  B09ZXDMNCY   \n",
       "9             10  B09ZQF5GZW   \n",
       "7              8  B01MTB55WH   \n",
       "\n",
       "                                                     title  stars  reviews  \\\n",
       "2443640  Motorcycle Socks 2 Pairs I'd Rather be on My M...    0.0        0   \n",
       "2443631  WULFSPORT LINEAR MOTORBIKE KIDS RACE SUIT New ...    5.0        4   \n",
       "2443625  SHIMA SX-2 EVO LADY Motorbike Shoes for Women ...    4.6      170   \n",
       "2443622  starlingukpk Quality Flexible Motorbike Motorc...    4.2        2   \n",
       "2443619  Motorcycle Clothing Suit - Motorbike Suit With...    0.0        0   \n",
       "...                                                    ...    ...      ...   \n",
       "31       Echo Show 15 | Full HD 15.6\" smart display wit...    4.4     2616   \n",
       "23       JBL Flip 6 Portable Bluetooth Speaker with 2-w...    4.7     8700   \n",
       "12       Introducing Echo Pop | Full sound compact Wi-F...    4.6     1881   \n",
       "9        RIENOK Bluetooth Speaker Portable Wireless Blu...    4.5    16014   \n",
       "7        Anker Soundcore 2 Portable Bluetooth Speaker w...    4.7   103673   \n",
       "\n",
       "          price  isBestSeller  boughtInLastMonth            category  \n",
       "2443640   10.99         False                  0  Motorbike Clothing  \n",
       "2443631   60.62         False                  0  Motorbike Clothing  \n",
       "2443625   99.95         False                  0  Motorbike Clothing  \n",
       "2443622    9.99         False                  0  Motorbike Clothing  \n",
       "2443619  166.99         False                  0  Motorbike Clothing  \n",
       "...         ...           ...                ...                 ...  \n",
       "31       199.99         False                  0      Hi-Fi Speakers  \n",
       "23        98.95         False                  0      Hi-Fi Speakers  \n",
       "12        17.99         False                  0      Hi-Fi Speakers  \n",
       "9         29.99         False                  0      Hi-Fi Speakers  \n",
       "7         39.99         False                  0      Hi-Fi Speakers  \n",
       "\n",
       "[327688 rows x 9 columns]"
      ]
     },
     "execution_count": 21,
     "metadata": {},
     "output_type": "execute_result"
    }
   ],
   "source": [
    "def tukeys_test_outliers(data):\n",
    "    Q1 = data.quantile(0.25)\n",
    "    Q3 = data.quantile(0.75)\n",
    "    IQR = Q3 - Q1\n",
    "\n",
    "    # Define bounds for the outliers\n",
    "    lower_bound = Q1 - 1.5 * IQR\n",
    "    upper_bound = Q3 + 1.5 * IQR\n",
    "\n",
    "    # Identify the outliers\n",
    "    outliers = data[(data < lower_bound) | (data > upper_bound)]\n",
    "\n",
    "    return outliers\n",
    "\n",
    "data_series = amz['price'] \n",
    "outliers = tukeys_test_outliers(data_series)\n",
    "amz.iloc[~outliers.index,:]"
   ]
  },
  {
   "cell_type": "markdown",
   "id": "cc5c30a7",
   "metadata": {},
   "source": [
    "Violin Plots:\n",
    "\n",
    "Use a violin plot to visualize the distribution of price across different product categories. Filter out the top 20 categories based on count for better visualization.\n",
    "\n",
    "Which product category tends to have the highest median price? Don't filter here by top categories."
   ]
  },
  {
   "cell_type": "markdown",
   "id": "d0801b53",
   "metadata": {},
   "source": [
    "The highest median price is Laptops with 1042.725 as the highest median price."
   ]
  },
  {
   "cell_type": "code",
   "execution_count": 22,
   "id": "4ca03ce4",
   "metadata": {},
   "outputs": [
    {
     "data": {
      "application/vnd.microsoft.datawrangler.viewer.v0+json": {
       "columns": [
        {
         "name": "index",
         "rawType": "int64",
         "type": "integer"
        },
        {
         "name": "uid",
         "rawType": "int64",
         "type": "integer"
        },
        {
         "name": "asin",
         "rawType": "object",
         "type": "string"
        },
        {
         "name": "title",
         "rawType": "object",
         "type": "string"
        },
        {
         "name": "stars",
         "rawType": "float64",
         "type": "float"
        },
        {
         "name": "reviews",
         "rawType": "int64",
         "type": "integer"
        },
        {
         "name": "price",
         "rawType": "float64",
         "type": "float"
        },
        {
         "name": "isBestSeller",
         "rawType": "bool",
         "type": "boolean"
        },
        {
         "name": "boughtInLastMonth",
         "rawType": "int64",
         "type": "integer"
        },
        {
         "name": "category",
         "rawType": "object",
         "type": "string"
        }
       ],
       "ref": "af23f687-bffe-41d5-8d7a-169a92590260",
       "rows": [
        [
         "19513",
         "21072",
         "B09477KHQ3",
         "Personalised Birthday Print Gift \"THE YEAR YOU WERE BORN\" Word Art Poster Keepsake, Choose Coloured or Black Print on its own or with a Choice of Frame",
         "4.5",
         "763",
         "7.99",
         "False",
         "900",
         "Handmade Home & Kitchen Products"
        ],
        [
         "19514",
         "21073",
         "B0BSRFQYG8",
         "Wax Melts 4 Bars | Build Your Own Box (Choose 4 Scents) Wax Melts Handmade Highly Scented Soy Snap Bars Designer Fragrance Vegan & Cruelty Free",
         "3.9",
         "117",
         "6.49",
         "True",
         "800",
         "Handmade Home & Kitchen Products"
        ],
        [
         "19515",
         "21074",
         "B09N9GVHV9",
         "Personalised Birthday Print Gift \"ON THE DAY/YEAR YOU WERE BORN\" Word Art Poster Keepsake, Print on its own or with a Choice of Frame",
         "4.6",
         "1155",
         "8.99",
         "True",
         "600",
         "Handmade Home & Kitchen Products"
        ],
        [
         "19516",
         "21075",
         "B0BRYGV7PQ",
         "Fresh Wax Melts - Laundry Type Wax Melts - Strong Scented Wax Melts",
         "4.5",
         "56",
         "4.99",
         "True",
         "500",
         "Handmade Home & Kitchen Products"
        ],
        [
         "19517",
         "21076",
         "B0B1JHB28R",
         "Manta Makes Work Leaving Gifts | I Used to Work with Absolute Legends Mug | Funny Work Gifts | Funny Work Colleague Gifts | Leaving Gifts for Colleagues | Colleague Leaving Gifts",
         "4.7",
         "261",
         "9.95",
         "True",
         "400",
         "Handmade Home & Kitchen Products"
        ],
        [
         "19518",
         "21077",
         "B0BN6NTWYX",
         "Ceramic Thank You Keepsake Gift Sentimental Gift For Best Friend | Mentor | Family | Female Gift For Her | Friendship Present | To Say Thanks | Teacher | Teaching Assistant",
         "5.0",
         "11",
         "7.99",
         "True",
         "300",
         "Handmade Home & Kitchen Products"
        ],
        [
         "19519",
         "21078",
         "B0BRVSX2TR",
         "Baby shower baby book | wishes for baby guestbook advice with pen| baby shower games guest book | guestbook alternative baby gifts",
         "4.1",
         "24",
         "12.99",
         "True",
         "300",
         "Handmade Home & Kitchen Products"
        ],
        [
         "19520",
         "21079",
         "B07P914HBH",
         "Gloss Colours Small to Large Sizes 100 Fonts Custom Personalised Quotes Text Names Wording Slogan Phrase Die Cut Vinyl Car Window Bumper Bedroom Wall Stickers Decals Graphics",
         "4.6",
         "867",
         "3.75",
         "True",
         "200",
         "Handmade Home & Kitchen Products"
        ],
        [
         "19521",
         "21080",
         "B08Y826JH4",
         "Personalised birthday gift \"ON THE DAY/YEAR YOU WERE BORN\" Word Art Print Poster on Card, Celebration Keepsake Present, with a choice of Frame",
         "4.6",
         "767",
         "8.75",
         "False",
         "200",
         "Handmade Home & Kitchen Products"
        ],
        [
         "19522",
         "21081",
         "B0BSTK3H2Y",
         "Handmade Scented Hoover Discs - Elevate Your Vacuum Game with Fresh, Long-Lasting Fragrances (Purple Rain, Dove, Spring Awakening) - 3 Packets of 2 Discs Each",
         "4.4",
         "35",
         "6.95",
         "False",
         "200",
         "Handmade Home & Kitchen Products"
        ],
        [
         "19523",
         "21082",
         "B07S2DJ54M",
         "Children’s Palm drills for Forest school/Nature school (5 mm drill bit)",
         "4.8",
         "62",
         "6.0",
         "True",
         "100",
         "Handmade Home & Kitchen Products"
        ],
        [
         "19524",
         "21083",
         "B08VGMW9ZQ",
         "Black Opium Wax Melts | Highly Scented | Natural Soy Wax | Handmade Snap Bar (1 Bar)",
         "4.4",
         "834",
         "4.99",
         "False",
         "200",
         "Handmade Home & Kitchen Products"
        ],
        [
         "19525",
         "21084",
         "B0BX776LNP",
         "Set of 2 No cold callers Yellow Safety Door Signs - 95mm Waterproof Indoor/Outdoor Stickers - Home Protection and Privacy Signs - Self-adhesive Vinyl Stickers",
         "4.2",
         "21",
         "2.99",
         "True",
         "200",
         "Handmade Home & Kitchen Products"
        ],
        [
         "19526",
         "21085",
         "B0BW4FBPYK",
         "Beecreative Personalised Engagement Gifts He Asked She Said Yes - Engagement Congratulations - Engaged Couples - Fiance Gifts - A5, A4 Prints and Frames",
         "4.6",
         "7",
         "5.95",
         "False",
         "200",
         "Handmade Home & Kitchen Products"
        ],
        [
         "19527",
         "21086",
         "B087BL1H8K",
         "I love you plaque | gifts | heart for her | signs hanging girlfriend boyfriend women | wooden keepsake sign gift | wife anniversary mum hearts | plaques with sayings",
         "4.6",
         "1602",
         "6.95",
         "False",
         "100",
         "Handmade Home & Kitchen Products"
        ],
        [
         "19528",
         "21087",
         "B0B1RNNRY6",
         "Fresh Linen highly fragranced carpet Freshener Scented. Shake & Vacuum, Carpet Sprinkle. Carpet dust ~250g. | Vegan Friendly | Cruelty Free | Handmade In UK | Highly Scented",
         "4.3",
         "72",
         "6.95",
         "False",
         "300",
         "Handmade Home & Kitchen Products"
        ],
        [
         "19529",
         "21088",
         "B08NK7479J",
         "Any Song First Dance Wedding, Anniversary, Birthday or Valentine's Day Gift, Framed or Unframed Song Lyrics Print, Gifts for her gifts for him, 1st wedding anniversary, 10th wedding anniversary",
         "4.7",
         "815",
         "18.45",
         "False",
         "200",
         "Handmade Home & Kitchen Products"
        ],
        [
         "19530",
         "21089",
         "B09R13L1HP",
         "Personalised Wall Name With Shapes - Premier Style",
         "4.7",
         "118",
         "4.99",
         "True",
         "200",
         "Handmade Home & Kitchen Products"
        ],
        [
         "19531",
         "21090",
         "B0BRQRRRTF",
         "Set of 2 Recycling Bin Signs - 95mm Waterproof Indoor/Outdoor Stickers - Wheelie Bin and Waste Containers Signs - Dry mixed recycling/General Waste (1 Packs - 2 stickers)",
         "4.2",
         "45",
         "2.99",
         "False",
         "100",
         "Handmade Home & Kitchen Products"
        ],
        [
         "19532",
         "21091",
         "B0BQ7M1WRY",
         "Artificial flowers in Grave pot, 27cm in warm autumn shades",
         "4.8",
         "38",
         "21.99",
         "True",
         "100",
         "Handmade Home & Kitchen Products"
        ],
        [
         "19533",
         "21092",
         "B07K4X85NF",
         "Custom NAME TAG,for Ghosbusters uniform, Personalized Embroidered PATCH/Iron on/Sew on/ 12cm x 4.5cm,1.75Hx5W",
         "4.7",
         "410",
         "4.95",
         "False",
         "100",
         "Handmade Home & Kitchen Products"
        ],
        [
         "19534",
         "21093",
         "B095KR61HT",
         "Engagement Wedding Anniversary Date Gifts, Personalised Special Date Gifts, First 1st Anniversary Husband Wife, One Year Together Boyfriend, Valentines Gifts, Acrylic Heart Block With Grey Bag",
         "4.6",
         "263",
         "13.95",
         "False",
         "100",
         "Handmade Home & Kitchen Products"
        ],
        [
         "19535",
         "21094",
         "B0BJ1MX7DT",
         "Personalised Bow Disney Autograph Book, Mickey or Minnie Mouse, Disney Land, World, Cruise, A5 (Minnie (Red Bow))",
         "4.5",
         "49",
         "8.99",
         "True",
         "100",
         "Handmade Home & Kitchen Products"
        ],
        [
         "19536",
         "21095",
         "B08H2GSTZ9",
         "Personalised 3D Street Sign | 8 Colours | Waterproof | Custom Garden Sign | Family Sign",
         "4.7",
         "1103",
         "26.99",
         "True",
         "200",
         "Handmade Home & Kitchen Products"
        ],
        [
         "19537",
         "21096",
         "B071ZYYKGY",
         "Personalised favourite song print gift sound waves gold silver copper foil, any song, any colour scheme",
         "4.5",
         "1046",
         "12.99",
         "False",
         "100",
         "Handmade Home & Kitchen Products"
        ],
        [
         "19538",
         "21097",
         "B09XQWMTYC",
         "Snow Angel highly fragranced carpet Freshener Scented. Shake & Vacuum, Carpet Sprinkle. Carpet dust ~250g. | Vegan Friendly | Cruelty Free | Handmade In UK | Highly Scented",
         "4.3",
         "32",
         "6.95",
         "False",
         "200",
         "Handmade Home & Kitchen Products"
        ],
        [
         "19539",
         "21098",
         "B0CB1X56SB",
         "Smells Like Taylor Swift | Pop Culture Gifts | Celebrity Candles | Vegan Candles| Funny Novelty Pop Culture Gift | Celebrity Candle | 4oz",
         "5.0",
         "2",
         "10.99",
         "False",
         "100",
         "Handmade Home & Kitchen Products"
        ],
        [
         "19540",
         "21099",
         "B0B5GD7CLS",
         "Valentine Day Romantic Heart Gifts for Her, Handmade Olive Wood Hearts Shape for Couple Wife Husband Wedding Engagement Anniversary Birthday Sweet Present (7cm)",
         "4.5",
         "173",
         "13.99",
         "True",
         "100",
         "Handmade Home & Kitchen Products"
        ],
        [
         "19541",
         "21100",
         "B0CCYX17VY",
         "Spiced Pumpkin Wax Melt Snap Bar - Halloween Wax Melts - Vegan Wax Melts - Scented Wax Melts - Handmade in Wales - Strong Scented",
         "0.0",
         "0",
         "4.99",
         "False",
         "50",
         "Handmade Home & Kitchen Products"
        ],
        [
         "19542",
         "21101",
         "B0B7BWH9V4",
         "Personalised Money Box, Christening Gift for Boy, Custom Christening Gift, Baptism Gift, Christening Keepsake, Rabbit, Piggy Bank, Ceramic Money Bank, Savings Jar",
         "4.7",
         "73",
         "9.99",
         "False",
         "100",
         "Handmade Home & Kitchen Products"
        ],
        [
         "19543",
         "21102",
         "B08KQ9JT7G",
         "Snow Angels Wax Melt Snapbar Clamshell Strong Scented Handmade in UK",
         "4.3",
         "1178",
         "5.79",
         "False",
         "100",
         "Handmade Home & Kitchen Products"
        ],
        [
         "19544",
         "21103",
         "B08JJPQJ69",
         "Pumpkin Spice Wax Melts, Natural Soy Wax, Premium Quality, Highly Scented, Handmade With Care !",
         "4.3",
         "107",
         "8.5",
         "False",
         "50",
         "Handmade Home & Kitchen Products"
        ],
        [
         "19545",
         "21104",
         "B08H1G3VZL",
         "Halloween and Autumn scents - Wax Melts by Twinkle Cottage - 12 x Soy Wax Melts - 6 Scents/Frangrances",
         "4.2",
         "65",
         "8.99",
         "False",
         "50",
         "Handmade Home & Kitchen Products"
        ],
        [
         "19546",
         "21105",
         "B0B27NYZZD",
         "Manta Makes Gifts for Colleagues | I Work with Absolute Legends Mug | Funny Work Gifts | Funny Work Colleague Gifts | Gifts for Work Colleagues | Work Colleague Gifts Funny",
         "4.7",
         "155",
         "8.46",
         "False",
         "100",
         "Handmade Home & Kitchen Products"
        ],
        [
         "19547",
         "21106",
         "B0B9VHYB5H",
         "Personalised 13th Birthday Card - Thirteenth Birthday Card for 13 Year Old Girls Teenager Daughter Granddaughter Niece Sister Her (Age 13)",
         "4.6",
         "156",
         "4.95",
         "False",
         "100",
         "Handmade Home & Kitchen Products"
        ],
        [
         "19548",
         "21107",
         "B0CGQBVW9P",
         "Custom made Wonka Bar Themed Novelty Chocolate Bar Wrapper + Golden Ticket, Wonka Bar,Joke, Funny Gift, Birthday, Hamper etc……",
         "3.5",
         "3",
         "3.5",
         "False",
         "200",
         "Handmade Home & Kitchen Products"
        ],
        [
         "19549",
         "21108",
         "B09FHTZLX9",
         "Personalised birthday gift \"ON THE DAY/YEAR YOU WERE BORN\" Word Art Print Poster on Card, Celebration Keepsake Present, with a choice of Frame",
         "4.5",
         "148",
         "8.75",
         "False",
         "50",
         "Handmade Home & Kitchen Products"
        ],
        [
         "19550",
         "21109",
         "B07DNHX8NG",
         "Personalised Birthday Print Gift \"ON THE DAY YOU WERE BORN\" COLOURED Word Art Poster Keepsake, Print on its own or with a Choice of Frame",
         "4.7",
         "4300",
         "8.99",
         "False",
         "100",
         "Handmade Home & Kitchen Products"
        ],
        [
         "19551",
         "21110",
         "B09GVD3X63",
         "Thanks for helping me grow - Wildflower seed bomb heart shaped - Teacher Gift - DD2375 (Random Colour)",
         "4.5",
         "136",
         "5.99",
         "False",
         "100",
         "Handmade Home & Kitchen Products"
        ],
        [
         "19552",
         "21111",
         "B07HQSC12N",
         "Beecreative Personalised Wedding Gifts for Bride & Groom And They Lived Happily Ever After Wedding Calendar Date Keepsake Gifts - A5, A4, A3 Prints and Frames",
         "4.6",
         "626",
         "6.95",
         "False",
         "100",
         "Handmade Home & Kitchen Products"
        ],
        [
         "19553",
         "21112",
         "B0C28FBWZM",
         "Beecreative Personalised New Home New Adventures New Memories Gift - New House Gifts For Couples - A5, A4 Prints",
         "4.5",
         "16",
         "5.95",
         "False",
         "100",
         "Handmade Home & Kitchen Products"
        ],
        [
         "19554",
         "21113",
         "B07FDG843R",
         "Personalised Treasured Memories Map Print // married, engaged, honeymoon, civil partnership, new home // choose location // custom print // gift for couple // wedding gift",
         "4.5",
         "395",
         "12.99",
         "False",
         "100",
         "Handmade Home & Kitchen Products"
        ],
        [
         "19555",
         "21114",
         "B0CBN5WLH5",
         "Personalised wedding gift cushion | anniversary gift for couple | home decor throw cushion | valentines cushion simple (Mr & Mrs)",
         "3.7",
         "5",
         "9.99",
         "True",
         "100",
         "Handmade Home & Kitchen Products"
        ],
        [
         "19556",
         "21115",
         "B0BRWKHDWB",
         "Alien Invasion Wax Melt Snap Bar - Perfume Wax Melts - Vegan Wax Melts - Scented Wax Melts - Handmade in Wales - Wax Melts Strong Scented",
         "4.1",
         "29",
         "4.99",
         "False",
         "100",
         "Handmade Home & Kitchen Products"
        ],
        [
         "19557",
         "21116",
         "B097QBJYBP",
         "Rustic Chunky Console Table | 20cm or 15cm deep Handcrafted Home Side Table | Wooden Table with Hairpin Legs | Radiator Shelf | Entryway | Hallway | Home Decor",
         "4.4",
         "330",
         "56.99",
         "False",
         "100",
         "Handmade Home & Kitchen Products"
        ],
        [
         "19558",
         "21117",
         "B0BB7YT6SF",
         "Blue Boys Nursery Night Light with Childs Name, Personalised Acrylic LED Night Light For Baby Boys Nursery, Giraffe Nursery Bedside Table Light, Baby Sleep Light",
         "4.3",
         "38",
         "14.95",
         "True",
         "100",
         "Handmade Home & Kitchen Products"
        ],
        [
         "19559",
         "21118",
         "B07X8HBX4B",
         "Beecreative Personalised Football Striker Gifts for Boys, Son, Grandson, Nephew, Him - Football Birthday Christmas Gifts for Boys - Boys Football Bedroom Wall Art Print - Any Name",
         "4.3",
         "215",
         "6.95",
         "False",
         "100",
         "Handmade Home & Kitchen Products"
        ],
        [
         "19560",
         "21119",
         "B095PFC91M",
         "1 Year Down Forever To Go Gifts For Him Her Couples Boyfriend Girlfriend Husband Wife, Personalised First 1st Wedding Anniversary Gifts, One Year Together Boyfriend, 1 Year Couples, With Grey Bag",
         "4.7",
         "194",
         "13.95",
         "False",
         "100",
         "Handmade Home & Kitchen Products"
        ],
        [
         "19561",
         "21120",
         "B0B1LB4BKN",
         "Fathers Day Mothers Day Gift - Favourite Child Mug | dad Gifts | Mum Gifts | Gifts for Mum | dad Birthday Gifts | Gifts for dad | Mum Mug",
         "4.7",
         "120",
         "9.95",
         "False",
         "100",
         "Handmade Home & Kitchen Products"
        ],
        [
         "19562",
         "21121",
         "B087F4TH3Q",
         "Friends plaque | Friends that are family wooden heart | gifts for friends women | best friend plaque | hug gifts motivational miss you gift | birthday Christmas",
         "4.7",
         "1882",
         "6.95",
         "False",
         "100",
         "Handmade Home & Kitchen Products"
        ]
       ],
       "shape": {
        "columns": 9,
        "rows": 1182251
       }
      },
      "text/html": [
       "<div>\n",
       "<style scoped>\n",
       "    .dataframe tbody tr th:only-of-type {\n",
       "        vertical-align: middle;\n",
       "    }\n",
       "\n",
       "    .dataframe tbody tr th {\n",
       "        vertical-align: top;\n",
       "    }\n",
       "\n",
       "    .dataframe thead th {\n",
       "        text-align: right;\n",
       "    }\n",
       "</style>\n",
       "<table border=\"1\" class=\"dataframe\">\n",
       "  <thead>\n",
       "    <tr style=\"text-align: right;\">\n",
       "      <th></th>\n",
       "      <th>uid</th>\n",
       "      <th>asin</th>\n",
       "      <th>title</th>\n",
       "      <th>stars</th>\n",
       "      <th>reviews</th>\n",
       "      <th>price</th>\n",
       "      <th>isBestSeller</th>\n",
       "      <th>boughtInLastMonth</th>\n",
       "      <th>category</th>\n",
       "    </tr>\n",
       "  </thead>\n",
       "  <tbody>\n",
       "    <tr>\n",
       "      <th>19513</th>\n",
       "      <td>21072</td>\n",
       "      <td>B09477KHQ3</td>\n",
       "      <td>Personalised Birthday Print Gift \"THE YEAR YOU...</td>\n",
       "      <td>4.5</td>\n",
       "      <td>763</td>\n",
       "      <td>7.99</td>\n",
       "      <td>False</td>\n",
       "      <td>900</td>\n",
       "      <td>Handmade Home &amp; Kitchen Products</td>\n",
       "    </tr>\n",
       "    <tr>\n",
       "      <th>19514</th>\n",
       "      <td>21073</td>\n",
       "      <td>B0BSRFQYG8</td>\n",
       "      <td>Wax Melts 4 Bars | Build Your Own Box (Choose ...</td>\n",
       "      <td>3.9</td>\n",
       "      <td>117</td>\n",
       "      <td>6.49</td>\n",
       "      <td>True</td>\n",
       "      <td>800</td>\n",
       "      <td>Handmade Home &amp; Kitchen Products</td>\n",
       "    </tr>\n",
       "    <tr>\n",
       "      <th>19515</th>\n",
       "      <td>21074</td>\n",
       "      <td>B09N9GVHV9</td>\n",
       "      <td>Personalised Birthday Print Gift \"ON THE DAY/Y...</td>\n",
       "      <td>4.6</td>\n",
       "      <td>1155</td>\n",
       "      <td>8.99</td>\n",
       "      <td>True</td>\n",
       "      <td>600</td>\n",
       "      <td>Handmade Home &amp; Kitchen Products</td>\n",
       "    </tr>\n",
       "    <tr>\n",
       "      <th>19516</th>\n",
       "      <td>21075</td>\n",
       "      <td>B0BRYGV7PQ</td>\n",
       "      <td>Fresh Wax Melts - Laundry Type Wax Melts - Str...</td>\n",
       "      <td>4.5</td>\n",
       "      <td>56</td>\n",
       "      <td>4.99</td>\n",
       "      <td>True</td>\n",
       "      <td>500</td>\n",
       "      <td>Handmade Home &amp; Kitchen Products</td>\n",
       "    </tr>\n",
       "    <tr>\n",
       "      <th>19517</th>\n",
       "      <td>21076</td>\n",
       "      <td>B0B1JHB28R</td>\n",
       "      <td>Manta Makes Work Leaving Gifts | I Used to Wor...</td>\n",
       "      <td>4.7</td>\n",
       "      <td>261</td>\n",
       "      <td>9.95</td>\n",
       "      <td>True</td>\n",
       "      <td>400</td>\n",
       "      <td>Handmade Home &amp; Kitchen Products</td>\n",
       "    </tr>\n",
       "    <tr>\n",
       "      <th>...</th>\n",
       "      <td>...</td>\n",
       "      <td>...</td>\n",
       "      <td>...</td>\n",
       "      <td>...</td>\n",
       "      <td>...</td>\n",
       "      <td>...</td>\n",
       "      <td>...</td>\n",
       "      <td>...</td>\n",
       "      <td>...</td>\n",
       "    </tr>\n",
       "    <tr>\n",
       "      <th>2429088</th>\n",
       "      <td>2806950</td>\n",
       "      <td>B0045I6SHW</td>\n",
       "      <td>Cannondale Men's Bibshort Dart Team Bike Shorts</td>\n",
       "      <td>0.0</td>\n",
       "      <td>0</td>\n",
       "      <td>99.67</td>\n",
       "      <td>False</td>\n",
       "      <td>0</td>\n",
       "      <td>Sports &amp; Outdoors</td>\n",
       "    </tr>\n",
       "    <tr>\n",
       "      <th>2429089</th>\n",
       "      <td>2806951</td>\n",
       "      <td>B0045I6NZY</td>\n",
       "      <td>Cannondale Men's Baggy Fitness Bike Shorts</td>\n",
       "      <td>0.0</td>\n",
       "      <td>0</td>\n",
       "      <td>20.62</td>\n",
       "      <td>False</td>\n",
       "      <td>0</td>\n",
       "      <td>Sports &amp; Outdoors</td>\n",
       "    </tr>\n",
       "    <tr>\n",
       "      <th>2429090</th>\n",
       "      <td>2806952</td>\n",
       "      <td>B003BLON3A</td>\n",
       "      <td>Pearl iZUMi Men's Phase Splice Knicker</td>\n",
       "      <td>4.3</td>\n",
       "      <td>3</td>\n",
       "      <td>59.86</td>\n",
       "      <td>False</td>\n",
       "      <td>0</td>\n",
       "      <td>Sports &amp; Outdoors</td>\n",
       "    </tr>\n",
       "    <tr>\n",
       "      <th>2437153</th>\n",
       "      <td>2818782</td>\n",
       "      <td>B091HG57TP</td>\n",
       "      <td>Goodstoworld Boys Girls Tracksuit Bottoms 3D S...</td>\n",
       "      <td>4.2</td>\n",
       "      <td>554</td>\n",
       "      <td>14.99</td>\n",
       "      <td>False</td>\n",
       "      <td>0</td>\n",
       "      <td>Sports &amp; Outdoors</td>\n",
       "    </tr>\n",
       "    <tr>\n",
       "      <th>2437154</th>\n",
       "      <td>2818786</td>\n",
       "      <td>B09F8TFQDM</td>\n",
       "      <td>AIEOE Unisex Baby Snow Trousers Boys Girls Dow...</td>\n",
       "      <td>5.0</td>\n",
       "      <td>1</td>\n",
       "      <td>24.99</td>\n",
       "      <td>False</td>\n",
       "      <td>0</td>\n",
       "      <td>Sports &amp; Outdoors</td>\n",
       "    </tr>\n",
       "  </tbody>\n",
       "</table>\n",
       "<p>1182251 rows × 9 columns</p>\n",
       "</div>"
      ],
      "text/plain": [
       "             uid        asin  \\\n",
       "19513      21072  B09477KHQ3   \n",
       "19514      21073  B0BSRFQYG8   \n",
       "19515      21074  B09N9GVHV9   \n",
       "19516      21075  B0BRYGV7PQ   \n",
       "19517      21076  B0B1JHB28R   \n",
       "...          ...         ...   \n",
       "2429088  2806950  B0045I6SHW   \n",
       "2429089  2806951  B0045I6NZY   \n",
       "2429090  2806952  B003BLON3A   \n",
       "2437153  2818782  B091HG57TP   \n",
       "2437154  2818786  B09F8TFQDM   \n",
       "\n",
       "                                                     title  stars  reviews  \\\n",
       "19513    Personalised Birthday Print Gift \"THE YEAR YOU...    4.5      763   \n",
       "19514    Wax Melts 4 Bars | Build Your Own Box (Choose ...    3.9      117   \n",
       "19515    Personalised Birthday Print Gift \"ON THE DAY/Y...    4.6     1155   \n",
       "19516    Fresh Wax Melts - Laundry Type Wax Melts - Str...    4.5       56   \n",
       "19517    Manta Makes Work Leaving Gifts | I Used to Wor...    4.7      261   \n",
       "...                                                    ...    ...      ...   \n",
       "2429088    Cannondale Men's Bibshort Dart Team Bike Shorts    0.0        0   \n",
       "2429089         Cannondale Men's Baggy Fitness Bike Shorts    0.0        0   \n",
       "2429090             Pearl iZUMi Men's Phase Splice Knicker    4.3        3   \n",
       "2437153  Goodstoworld Boys Girls Tracksuit Bottoms 3D S...    4.2      554   \n",
       "2437154  AIEOE Unisex Baby Snow Trousers Boys Girls Dow...    5.0        1   \n",
       "\n",
       "         price  isBestSeller  boughtInLastMonth  \\\n",
       "19513     7.99         False                900   \n",
       "19514     6.49          True                800   \n",
       "19515     8.99          True                600   \n",
       "19516     4.99          True                500   \n",
       "19517     9.95          True                400   \n",
       "...        ...           ...                ...   \n",
       "2429088  99.67         False                  0   \n",
       "2429089  20.62         False                  0   \n",
       "2429090  59.86         False                  0   \n",
       "2437153  14.99         False                  0   \n",
       "2437154  24.99         False                  0   \n",
       "\n",
       "                                 category  \n",
       "19513    Handmade Home & Kitchen Products  \n",
       "19514    Handmade Home & Kitchen Products  \n",
       "19515    Handmade Home & Kitchen Products  \n",
       "19516    Handmade Home & Kitchen Products  \n",
       "19517    Handmade Home & Kitchen Products  \n",
       "...                                   ...  \n",
       "2429088                 Sports & Outdoors  \n",
       "2429089                 Sports & Outdoors  \n",
       "2429090                 Sports & Outdoors  \n",
       "2437153                 Sports & Outdoors  \n",
       "2437154                 Sports & Outdoors  \n",
       "\n",
       "[1182251 rows x 9 columns]"
      ]
     },
     "execution_count": 22,
     "metadata": {},
     "output_type": "execute_result"
    }
   ],
   "source": [
    "top_20=amz['category'].value_counts().head(20)\n",
    "top_cat=amz[amz['category'].isin(top_20.index)]\n",
    "top_cat"
   ]
  },
  {
   "cell_type": "code",
   "execution_count": 23,
   "id": "84395b38",
   "metadata": {},
   "outputs": [],
   "source": [
    "# sns.violinplot(data=top_cat, x='category', \n",
    "#                y='price', palette=\"coolwarm\", hue='price', legend=False)"
   ]
  },
  {
   "cell_type": "code",
   "execution_count": 24,
   "id": "132279dc",
   "metadata": {},
   "outputs": [
    {
     "data": {
      "application/vnd.microsoft.datawrangler.viewer.v0+json": {
       "columns": [
        {
         "name": "category",
         "rawType": "object",
         "type": "string"
        },
        {
         "name": "median",
         "rawType": "float64",
         "type": "float"
        }
       ],
       "ref": "50ab386b-d987-4d98-ba2f-c230f2eb6aad",
       "rows": [
        [
         "3D Printers",
         "319.0"
        ],
        [
         "3D Printing & Scanning",
         "36.86"
        ],
        [
         "Abrasive & Finishing Products",
         "10.49"
        ],
        [
         "Action Cameras",
         "60.77"
        ],
        [
         "Adapters",
         "7.050000000000001"
        ],
        [
         "Agricultural Equipment & Supplies",
         "13.99"
        ],
        [
         "Alexa Built-In Devices",
         "149.99"
        ],
        [
         "Art & Craft Supplies",
         "9.99"
        ],
        [
         "Arts & Crafts",
         "5.99"
        ],
        [
         "Baby",
         "12.99"
        ],
        [
         "Baby & Toddler Toys",
         "14.0"
        ],
        [
         "Bakeware",
         "12.0"
        ],
        [
         "Ballet & Dancing Footwear",
         "19.979999999999997"
        ],
        [
         "Barebone PCs",
         "244.99"
        ],
        [
         "Basketball Footwear",
         "69.98"
        ],
        [
         "Bass Guitars & Gear",
         "45.42"
        ],
        [
         "Bath & Body",
         "11.7"
        ],
        [
         "Bathroom Furniture",
         "29.99"
        ],
        [
         "Bathroom Lighting",
         "25.99"
        ],
        [
         "Bathroom Linen",
         "17.59"
        ],
        [
         "Beauty",
         "8.99"
        ],
        [
         "Bedding & Linen",
         "22.99"
        ],
        [
         "Bedding Accessories",
         "7.09"
        ],
        [
         "Bedding Collections",
         "136.72"
        ],
        [
         "Bedroom Furniture",
         "80.99"
        ],
        [
         "Beer, Wine & Spirits",
         "28.95"
        ],
        [
         "Billiard, Snooker & Pool",
         "15.99"
        ],
        [
         "Binoculars, Telescopes & Optics",
         "105.43"
        ],
        [
         "Bird & Wildlife Care",
         "15.95"
        ],
        [
         "Birthday Gifts",
         "14.25"
        ],
        [
         "Blank Media Cases & Wallets",
         "19.87"
        ],
        [
         "Boating Footwear",
         "12.92"
        ],
        [
         "Bowling",
         "29.27"
        ],
        [
         "Boxes & Organisers",
         "15.99"
        ],
        [
         "Boxing Shoes",
         "70.99"
        ],
        [
         "Boys",
         "14.99"
        ],
        [
         "Building & Construction Toys",
         "24.99"
        ],
        [
         "Building Supplies",
         "16.79"
        ],
        [
         "CD, Disc & Tape Players",
         "49.22"
        ],
        [
         "CPUs",
         "159.96"
        ],
        [
         "Cables & Accessories",
         "7.79"
        ],
        [
         "Calendars & Personal Organisers",
         "8.99"
        ],
        [
         "Camcorders",
         "69.99"
        ],
        [
         "Camera & Photo Accessories",
         "20.99"
        ],
        [
         "Cameras",
         "47.49"
        ],
        [
         "Candles & Holders",
         "13.95"
        ],
        [
         "Car & Motorbike",
         "13.99"
        ],
        [
         "Car & Vehicle Electronics",
         "17.99"
        ],
        [
         "Children's Bedding",
         "17.564999999999998"
        ],
        [
         "Climbing Footwear",
         "16.99"
        ]
       ],
       "shape": {
        "columns": 1,
        "rows": 296
       }
      },
      "text/html": [
       "<div>\n",
       "<style scoped>\n",
       "    .dataframe tbody tr th:only-of-type {\n",
       "        vertical-align: middle;\n",
       "    }\n",
       "\n",
       "    .dataframe tbody tr th {\n",
       "        vertical-align: top;\n",
       "    }\n",
       "\n",
       "    .dataframe thead th {\n",
       "        text-align: right;\n",
       "    }\n",
       "</style>\n",
       "<table border=\"1\" class=\"dataframe\">\n",
       "  <thead>\n",
       "    <tr style=\"text-align: right;\">\n",
       "      <th></th>\n",
       "      <th>median</th>\n",
       "    </tr>\n",
       "    <tr>\n",
       "      <th>category</th>\n",
       "      <th></th>\n",
       "    </tr>\n",
       "  </thead>\n",
       "  <tbody>\n",
       "    <tr>\n",
       "      <th>3D Printers</th>\n",
       "      <td>319.00</td>\n",
       "    </tr>\n",
       "    <tr>\n",
       "      <th>3D Printing &amp; Scanning</th>\n",
       "      <td>36.86</td>\n",
       "    </tr>\n",
       "    <tr>\n",
       "      <th>Abrasive &amp; Finishing Products</th>\n",
       "      <td>10.49</td>\n",
       "    </tr>\n",
       "    <tr>\n",
       "      <th>Action Cameras</th>\n",
       "      <td>60.77</td>\n",
       "    </tr>\n",
       "    <tr>\n",
       "      <th>Adapters</th>\n",
       "      <td>7.05</td>\n",
       "    </tr>\n",
       "    <tr>\n",
       "      <th>...</th>\n",
       "      <td>...</td>\n",
       "    </tr>\n",
       "    <tr>\n",
       "      <th>Wind Instruments</th>\n",
       "      <td>126.79</td>\n",
       "    </tr>\n",
       "    <tr>\n",
       "      <th>Window Treatments</th>\n",
       "      <td>17.99</td>\n",
       "    </tr>\n",
       "    <tr>\n",
       "      <th>Women</th>\n",
       "      <td>16.49</td>\n",
       "    </tr>\n",
       "    <tr>\n",
       "      <th>Women's Sports &amp; Outdoor Shoes</th>\n",
       "      <td>61.64</td>\n",
       "    </tr>\n",
       "    <tr>\n",
       "      <th>eBook Readers &amp; Accessories</th>\n",
       "      <td>23.00</td>\n",
       "    </tr>\n",
       "  </tbody>\n",
       "</table>\n",
       "<p>296 rows × 1 columns</p>\n",
       "</div>"
      ],
      "text/plain": [
       "                                median\n",
       "category                              \n",
       "3D Printers                     319.00\n",
       "3D Printing & Scanning           36.86\n",
       "Abrasive & Finishing Products    10.49\n",
       "Action Cameras                   60.77\n",
       "Adapters                          7.05\n",
       "...                                ...\n",
       "Wind Instruments                126.79\n",
       "Window Treatments                17.99\n",
       "Women                            16.49\n",
       "Women's Sports & Outdoor Shoes   61.64\n",
       "eBook Readers & Accessories      23.00\n",
       "\n",
       "[296 rows x 1 columns]"
      ]
     },
     "execution_count": 24,
     "metadata": {},
     "output_type": "execute_result"
    }
   ],
   "source": [
    "amz.groupby(\"category\")['price'].agg(['median'])"
   ]
  },
  {
   "cell_type": "markdown",
   "id": "c53da2f0",
   "metadata": {},
   "source": [
    "Bar Charts:\n",
    "\n",
    "Create a bar chart comparing the average price of products for the top 10 product categories (based on count).\n",
    "\n",
    "Which product category commands the highest average price? Don't filter here by top categories."
   ]
  },
  {
   "cell_type": "markdown",
   "id": "a65b94f9",
   "metadata": {},
   "source": [
    "In this case the top categories in terms of price median are Sports & Outdoors, Fragrances and Birthday Gifts. As shown in the visuals bellow."
   ]
  },
  {
   "cell_type": "code",
   "execution_count": 25,
   "id": "b08b7279",
   "metadata": {},
   "outputs": [
    {
     "data": {
      "text/plain": [
       "<Axes: xlabel='median', ylabel='category'>"
      ]
     },
     "execution_count": 25,
     "metadata": {},
     "output_type": "execute_result"
    },
    {
     "data": {
      "image/png": "[encoded data removed]",
      "text/plain": [
       "<Figure size 640x480 with 1 Axes>"
      ]
     },
     "metadata": {},
     "output_type": "display_data"
    }
   ],
   "source": [
    "top_10=amz['category'].value_counts().head(10)\n",
    "top_10_cat=amz[amz['category'].isin(top_10.index)]\n",
    "median=top_10_cat.groupby('category')['price'].agg([\"median\"])\n",
    "\n",
    "sns.barplot(y=median.index, x=median['median'])"
   ]
  },
  {
   "cell_type": "markdown",
   "id": "f3fbb3a1",
   "metadata": {},
   "source": [
    "Box Plots:\n",
    "\n",
    "Visualize the distribution of product ratings based on their category using side-by-side box plots. Filter out the top 10 categories based on count for better visualization.\n",
    "\n",
    "Which category tends to receive the highest median rating from customers? Don't filter here by top categories."
   ]
  },
  {
   "cell_type": "markdown",
   "id": "2d043ced",
   "metadata": {},
   "source": [
    "The 4 cateegories with the top stars are Skin Care, Hair Care, Beauty and Bath & Body. All of them with a 4.4 rating and median."
   ]
  },
  {
   "cell_type": "code",
   "execution_count": 26,
   "id": "f1d31067",
   "metadata": {},
   "outputs": [
    {
     "data": {
      "text/plain": [
       "<Axes: xlabel='stars', ylabel='category'>"
      ]
     },
     "execution_count": 26,
     "metadata": {},
     "output_type": "execute_result"
    },
    {
     "data": {
      "image/png": "[encoded data removed]",
      "text/plain": [
       "<Figure size 640x480 with 1 Axes>"
      ]
     },
     "metadata": {},
     "output_type": "display_data"
    }
   ],
   "source": [
    "sns.boxplot(data=top_10_cat, y='category', x='stars', palette=\"coolwarm\", hue='category', legend=False)"
   ]
  },
  {
   "cell_type": "code",
   "execution_count": 27,
   "id": "7b6ebc46",
   "metadata": {},
   "outputs": [
    {
     "data": {
      "application/vnd.microsoft.datawrangler.viewer.v0+json": {
       "columns": [
        {
         "name": "category",
         "rawType": "object",
         "type": "string"
        },
        {
         "name": "median",
         "rawType": "float64",
         "type": "float"
        }
       ],
       "ref": "4108cb49-8143-427d-9ab3-5e49351416fe",
       "rows": [
        [
         "Bath & Body",
         "4.4"
        ],
        [
         "Beauty",
         "4.4"
        ],
        [
         "Birthday Gifts",
         "0.0"
        ],
        [
         "Fragrances",
         "4.3"
        ],
        [
         "Hair Care",
         "4.4"
        ],
        [
         "Handmade Clothing, Shoes & Accessories",
         "0.0"
        ],
        [
         "Make-up",
         "4.2"
        ],
        [
         "Manicure & Pedicure Products",
         "4.2"
        ],
        [
         "Skin Care",
         "4.4"
        ],
        [
         "Sports & Outdoors",
         "0.0"
        ]
       ],
       "shape": {
        "columns": 1,
        "rows": 10
       }
      },
      "text/html": [
       "<div>\n",
       "<style scoped>\n",
       "    .dataframe tbody tr th:only-of-type {\n",
       "        vertical-align: middle;\n",
       "    }\n",
       "\n",
       "    .dataframe tbody tr th {\n",
       "        vertical-align: top;\n",
       "    }\n",
       "\n",
       "    .dataframe thead th {\n",
       "        text-align: right;\n",
       "    }\n",
       "</style>\n",
       "<table border=\"1\" class=\"dataframe\">\n",
       "  <thead>\n",
       "    <tr style=\"text-align: right;\">\n",
       "      <th></th>\n",
       "      <th>median</th>\n",
       "    </tr>\n",
       "    <tr>\n",
       "      <th>category</th>\n",
       "      <th></th>\n",
       "    </tr>\n",
       "  </thead>\n",
       "  <tbody>\n",
       "    <tr>\n",
       "      <th>Bath &amp; Body</th>\n",
       "      <td>4.4</td>\n",
       "    </tr>\n",
       "    <tr>\n",
       "      <th>Beauty</th>\n",
       "      <td>4.4</td>\n",
       "    </tr>\n",
       "    <tr>\n",
       "      <th>Birthday Gifts</th>\n",
       "      <td>0.0</td>\n",
       "    </tr>\n",
       "    <tr>\n",
       "      <th>Fragrances</th>\n",
       "      <td>4.3</td>\n",
       "    </tr>\n",
       "    <tr>\n",
       "      <th>Hair Care</th>\n",
       "      <td>4.4</td>\n",
       "    </tr>\n",
       "    <tr>\n",
       "      <th>Handmade Clothing, Shoes &amp; Accessories</th>\n",
       "      <td>0.0</td>\n",
       "    </tr>\n",
       "    <tr>\n",
       "      <th>Make-up</th>\n",
       "      <td>4.2</td>\n",
       "    </tr>\n",
       "    <tr>\n",
       "      <th>Manicure &amp; Pedicure Products</th>\n",
       "      <td>4.2</td>\n",
       "    </tr>\n",
       "    <tr>\n",
       "      <th>Skin Care</th>\n",
       "      <td>4.4</td>\n",
       "    </tr>\n",
       "    <tr>\n",
       "      <th>Sports &amp; Outdoors</th>\n",
       "      <td>0.0</td>\n",
       "    </tr>\n",
       "  </tbody>\n",
       "</table>\n",
       "</div>"
      ],
      "text/plain": [
       "                                        median\n",
       "category                                      \n",
       "Bath & Body                                4.4\n",
       "Beauty                                     4.4\n",
       "Birthday Gifts                             0.0\n",
       "Fragrances                                 4.3\n",
       "Hair Care                                  4.4\n",
       "Handmade Clothing, Shoes & Accessories     0.0\n",
       "Make-up                                    4.2\n",
       "Manicure & Pedicure Products               4.2\n",
       "Skin Care                                  4.4\n",
       "Sports & Outdoors                          0.0"
      ]
     },
     "execution_count": 27,
     "metadata": {},
     "output_type": "execute_result"
    }
   ],
   "source": [
    "top_10_cat.groupby('category')['stars'].agg([\"median\"])"
   ]
  },
  {
   "cell_type": "markdown",
   "id": "1ff2d56f",
   "metadata": {},
   "source": [
    "## Part 3: Investigating the Interplay Between Product Prices and Ratings\n",
    "# Objective: Analyze how product ratings (stars) correlate with product prices.\n",
    "\n",
    "Correlation Coefficients:\n",
    "\n",
    "Calculate the correlation coefficient between price and stars.\n",
    "\n",
    "Is there a significant correlation between product price and its rating?"
   ]
  },
  {
   "cell_type": "markdown",
   "id": "a538986f",
   "metadata": {},
   "source": [
    "A correlation of -0.1249 represents a very weak negative linear correlation. Also, since the correlation is negative it means that the move in opposite directions. Meaning that if and increase in the price means a decrease in the stars and vice-versa"
   ]
  },
  {
   "cell_type": "code",
   "execution_count": 28,
   "id": "ae0c8aa0",
   "metadata": {},
   "outputs": [
    {
     "data": {
      "text/plain": [
       "Index(['uid', 'asin', 'title', 'stars', 'reviews', 'price', 'isBestSeller',\n",
       "       'boughtInLastMonth', 'category'],\n",
       "      dtype='object')"
      ]
     },
     "execution_count": 28,
     "metadata": {},
     "output_type": "execute_result"
    }
   ],
   "source": [
    "amz.columns"
   ]
  },
  {
   "cell_type": "code",
   "execution_count": 30,
   "id": "8573237a",
   "metadata": {},
   "outputs": [
    {
     "data": {
      "text/plain": [
       "np.float64(-0.12490673262148384)"
      ]
     },
     "execution_count": 30,
     "metadata": {},
     "output_type": "execute_result"
    }
   ],
   "source": [
    "correlation = amz['stars'].corr(amz['price'])\n",
    "correlation"
   ]
  },
  {
   "cell_type": "markdown",
   "id": "6e8b8fdb",
   "metadata": {},
   "source": [
    "# Visualizations:\n",
    "\n",
    "Use a scatter plot to visualize the relationship between product rating and price. What patterns can you observe?\n",
    "Use a correlation heatmap to visualize correlations between all numerical variables.\n",
    "Examine if product prices typically follow a normal distribution using a QQ plot."
   ]
  },
  {
   "cell_type": "code",
   "execution_count": 31,
   "id": "f20dd757",
   "metadata": {},
   "outputs": [
    {
     "data": {
      "text/plain": [
       "<Axes: xlabel='stars', ylabel='price'>"
      ]
     },
     "execution_count": 31,
     "metadata": {},
     "output_type": "execute_result"
    },
    {
     "data": {
      "image/png": "[encoded data removed]",
      "text/plain": [
       "<Figure size 640x480 with 1 Axes>"
      ]
     },
     "metadata": {},
     "output_type": "display_data"
    }
   ],
   "source": [
    "sns.scatterplot(data=amz, x='stars', y='price')"
   ]
  }
 ],
 "metadata": {
  "kernelspec": {
   "display_name": "Python 3",
   "language": "python",
   "name": "python3"
  },
  "language_info": {
   "codemirror_mode": {
    "name": "ipython",
    "version": 3
   },
   "file_extension": ".py",
   "mimetype": "text/x-python",
   "name": "python",
   "nbconvert_exporter": "python",
   "pygments_lexer": "ipython3",
   "version": "3.13.3"
  }
 },
 "nbformat": 4,
 "nbformat_minor": 5
}
